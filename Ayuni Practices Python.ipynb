{
 "cells": [
  {
   "cell_type": "code",
   "execution_count": 1,
   "id": "c6b0bae5",
   "metadata": {},
   "outputs": [
    {
     "data": {
      "text/plain": [
       "'Hello World'"
      ]
     },
     "execution_count": 1,
     "metadata": {},
     "output_type": "execute_result"
    }
   ],
   "source": [
    "# We can simply declare a string\n",
    "'Hello World'"
   ]
  },
  {
   "cell_type": "code",
   "execution_count": 2,
   "id": "2bf14c97",
   "metadata": {},
   "outputs": [
    {
     "data": {
      "text/plain": [
       "'Hello World 2'"
      ]
     },
     "execution_count": 2,
     "metadata": {},
     "output_type": "execute_result"
    }
   ],
   "source": [
    "# But we can't output multiple string this way:\n",
    "'Hello World 1'\n",
    "'Hello World 2'"
   ]
  },
  {
   "cell_type": "code",
   "execution_count": 5,
   "id": "88bc20f4",
   "metadata": {},
   "outputs": [
    {
     "name": "stdout",
     "output_type": "stream",
     "text": [
      "Hello Marikh\n",
      "Hello Khalil\n",
      "Hello Zeffyr\n",
      "Hello\n",
      " Shalia binti Rohan\n"
     ]
    }
   ],
   "source": [
    "# So we can print statement to print a string like this\n",
    "print('Hello Marikh')\n",
    "print('Hello Khalil')\n",
    "print('Hello Zeffyr')\n",
    "print('Hello\\n Shalia binti Rohan')"
   ]
  },
  {
   "cell_type": "code",
   "execution_count": 7,
   "id": "8ff4362f",
   "metadata": {},
   "outputs": [
    {
     "data": {
      "text/plain": [
       "24"
      ]
     },
     "execution_count": 7,
     "metadata": {},
     "output_type": "execute_result"
    }
   ],
   "source": [
    "len('Hello Shalia binti Rohan')"
   ]
  },
  {
   "cell_type": "code",
   "execution_count": 8,
   "id": "8d326a01",
   "metadata": {},
   "outputs": [],
   "source": [
    "# Assign s as a string\n",
    "s = 'Hello Marikh'"
   ]
  },
  {
   "cell_type": "code",
   "execution_count": 9,
   "id": "b5ef2058",
   "metadata": {},
   "outputs": [
    {
     "data": {
      "text/plain": [
       "'Hello Marikh'"
      ]
     },
     "execution_count": 9,
     "metadata": {},
     "output_type": "execute_result"
    }
   ],
   "source": [
    "s"
   ]
  },
  {
   "cell_type": "code",
   "execution_count": 10,
   "id": "95dc98b0",
   "metadata": {},
   "outputs": [
    {
     "name": "stdout",
     "output_type": "stream",
     "text": [
      "Hello Marikh\n"
     ]
    }
   ],
   "source": [
    "# Print the object\n",
    "print(s)"
   ]
  },
  {
   "cell_type": "code",
   "execution_count": 11,
   "id": "03a08e48",
   "metadata": {},
   "outputs": [
    {
     "data": {
      "text/plain": [
       "'H'"
      ]
     },
     "execution_count": 11,
     "metadata": {},
     "output_type": "execute_result"
    }
   ],
   "source": [
    "# Show first element (in this case a letter)\n",
    "s[0]"
   ]
  },
  {
   "cell_type": "code",
   "execution_count": 12,
   "id": "c47469d1",
   "metadata": {},
   "outputs": [
    {
     "data": {
      "text/plain": [
       "'e'"
      ]
     },
     "execution_count": 12,
     "metadata": {},
     "output_type": "execute_result"
    }
   ],
   "source": [
    "s[1]"
   ]
  },
  {
   "cell_type": "code",
   "execution_count": 13,
   "id": "26aef3ad",
   "metadata": {},
   "outputs": [
    {
     "data": {
      "text/plain": [
       "'r'"
      ]
     },
     "execution_count": 13,
     "metadata": {},
     "output_type": "execute_result"
    }
   ],
   "source": [
    "s[8]"
   ]
  },
  {
   "cell_type": "code",
   "execution_count": 14,
   "id": "1247dd5d",
   "metadata": {},
   "outputs": [
    {
     "data": {
      "text/plain": [
       "'ello Marikh'"
      ]
     },
     "execution_count": 14,
     "metadata": {},
     "output_type": "execute_result"
    }
   ],
   "source": [
    "# Grab everything past the first term all the way to the length of s which is len(s)\n",
    "s[1:]"
   ]
  },
  {
   "cell_type": "code",
   "execution_count": 15,
   "id": "732f98f0",
   "metadata": {},
   "outputs": [
    {
     "data": {
      "text/plain": [
       "'Hello Marikh'"
      ]
     },
     "execution_count": 15,
     "metadata": {},
     "output_type": "execute_result"
    }
   ],
   "source": [
    "s"
   ]
  },
  {
   "cell_type": "code",
   "execution_count": 16,
   "id": "192a50e1",
   "metadata": {},
   "outputs": [
    {
     "data": {
      "text/plain": [
       "'Hel'"
      ]
     },
     "execution_count": 16,
     "metadata": {},
     "output_type": "execute_result"
    }
   ],
   "source": [
    "s[:3]"
   ]
  },
  {
   "cell_type": "code",
   "execution_count": 17,
   "id": "d0f5b80c",
   "metadata": {},
   "outputs": [
    {
     "data": {
      "text/plain": [
       "'Hello Marikh'"
      ]
     },
     "execution_count": 17,
     "metadata": {},
     "output_type": "execute_result"
    }
   ],
   "source": [
    "s[:]"
   ]
  },
  {
   "cell_type": "code",
   "execution_count": 18,
   "id": "625d6f4b",
   "metadata": {},
   "outputs": [
    {
     "data": {
      "text/plain": [
       "'h'"
      ]
     },
     "execution_count": 18,
     "metadata": {},
     "output_type": "execute_result"
    }
   ],
   "source": [
    "s[-1]"
   ]
  },
  {
   "cell_type": "code",
   "execution_count": 19,
   "id": "3028f981",
   "metadata": {},
   "outputs": [
    {
     "data": {
      "text/plain": [
       "'Hello Marik'"
      ]
     },
     "execution_count": 19,
     "metadata": {},
     "output_type": "execute_result"
    }
   ],
   "source": [
    "# Grab everything but the last letter\n",
    "s[:-1]"
   ]
  },
  {
   "cell_type": "code",
   "execution_count": 20,
   "id": "169dd476",
   "metadata": {},
   "outputs": [
    {
     "data": {
      "text/plain": [
       "'Hello Marikh'"
      ]
     },
     "execution_count": 20,
     "metadata": {},
     "output_type": "execute_result"
    }
   ],
   "source": [
    "# Grab everything, but go in steps size of 1\n",
    "s[::1]"
   ]
  },
  {
   "cell_type": "code",
   "execution_count": 21,
   "id": "f40db1c3",
   "metadata": {},
   "outputs": [
    {
     "data": {
      "text/plain": [
       "'hkiraM olleH'"
      ]
     },
     "execution_count": 21,
     "metadata": {},
     "output_type": "execute_result"
    }
   ],
   "source": [
    "s[::-1]"
   ]
  },
  {
   "cell_type": "code",
   "execution_count": 22,
   "id": "9777c403",
   "metadata": {},
   "outputs": [
    {
     "ename": "TypeError",
     "evalue": "'str' object does not support item assignment",
     "output_type": "error",
     "traceback": [
      "\u001b[0;31m---------------------------------------------------------------------------\u001b[0m",
      "\u001b[0;31mTypeError\u001b[0m                                 Traceback (most recent call last)",
      "\u001b[0;32m/var/folders/fx/tj_szvc17v38zxm2_vgmsz380000gq/T/ipykernel_10647/2138848189.py\u001b[0m in \u001b[0;36m<module>\u001b[0;34m\u001b[0m\n\u001b[1;32m      1\u001b[0m \u001b[0;31m# Let's try to change the first letter to 'x'\u001b[0m\u001b[0;34m\u001b[0m\u001b[0;34m\u001b[0m\u001b[0m\n\u001b[0;32m----> 2\u001b[0;31m \u001b[0ms\u001b[0m\u001b[0;34m[\u001b[0m\u001b[0;36m0\u001b[0m\u001b[0;34m]\u001b[0m \u001b[0;34m=\u001b[0m \u001b[0;34m'x'\u001b[0m\u001b[0;34m\u001b[0m\u001b[0;34m\u001b[0m\u001b[0m\n\u001b[0m",
      "\u001b[0;31mTypeError\u001b[0m: 'str' object does not support item assignment"
     ]
    }
   ],
   "source": [
    "# Let's try to change the first letter to 'x'. You can't because a string is immutable.\n",
    "s[0] = 'x'"
   ]
  },
  {
   "cell_type": "code",
   "execution_count": 23,
   "id": "cada5d8a",
   "metadata": {},
   "outputs": [
    {
     "data": {
      "text/plain": [
       "'Hello Marikh'"
      ]
     },
     "execution_count": 23,
     "metadata": {},
     "output_type": "execute_result"
    }
   ],
   "source": [
    "#So we can do concatenate strings instead.\n",
    "s"
   ]
  },
  {
   "cell_type": "code",
   "execution_count": 24,
   "id": "b699e191",
   "metadata": {},
   "outputs": [
    {
     "data": {
      "text/plain": [
       "'Hello Marikh. You are a very handsome young boy'"
      ]
     },
     "execution_count": 24,
     "metadata": {},
     "output_type": "execute_result"
    }
   ],
   "source": [
    "# Concetenate string\n",
    "s + '. You are a very handsome young boy'"
   ]
  },
  {
   "cell_type": "code",
   "execution_count": 1,
   "id": "d7ab789a",
   "metadata": {},
   "outputs": [
    {
     "ename": "NameError",
     "evalue": "name 's' is not defined",
     "output_type": "error",
     "traceback": [
      "\u001b[0;31m---------------------------------------------------------------------------\u001b[0m",
      "\u001b[0;31mNameError\u001b[0m                                 Traceback (most recent call last)",
      "\u001b[0;32m/var/folders/fx/tj_szvc17v38zxm2_vgmsz380000gq/T/ipykernel_10914/4261634264.py\u001b[0m in \u001b[0;36m<module>\u001b[0;34m\u001b[0m\n\u001b[1;32m      1\u001b[0m \u001b[0;31m# We can reasssign s completely though!\u001b[0m\u001b[0;34m\u001b[0m\u001b[0;34m\u001b[0m\u001b[0m\n\u001b[0;32m----> 2\u001b[0;31m \u001b[0ms\u001b[0m \u001b[0;34m=\u001b[0m \u001b[0ms\u001b[0m \u001b[0;34m+\u001b[0m \u001b[0;34m'. You are a very handsome young boy'\u001b[0m\u001b[0;34m\u001b[0m\u001b[0;34m\u001b[0m\u001b[0m\n\u001b[0m",
      "\u001b[0;31mNameError\u001b[0m: name 's' is not defined"
     ]
    }
   ],
   "source": [
    "# We can reasssign s completely though!\n",
    "s = s + '. You are a very handsome young boy'"
   ]
  },
  {
   "cell_type": "code",
   "execution_count": 2,
   "id": "d5892ee0",
   "metadata": {},
   "outputs": [],
   "source": [
    "s = 'Hello Marikh'"
   ]
  },
  {
   "cell_type": "code",
   "execution_count": 3,
   "id": "ff3a7142",
   "metadata": {},
   "outputs": [
    {
     "data": {
      "text/plain": [
       "'Hello Marikh'"
      ]
     },
     "execution_count": 3,
     "metadata": {},
     "output_type": "execute_result"
    }
   ],
   "source": [
    "s"
   ]
  },
  {
   "cell_type": "code",
   "execution_count": 4,
   "id": "aea859f1",
   "metadata": {},
   "outputs": [],
   "source": [
    "s = s + '. You are a very handsome young boy'"
   ]
  },
  {
   "cell_type": "code",
   "execution_count": 5,
   "id": "937735ce",
   "metadata": {},
   "outputs": [
    {
     "data": {
      "text/plain": [
       "'Hello Marikh. You are a very handsome young boy'"
      ]
     },
     "execution_count": 5,
     "metadata": {},
     "output_type": "execute_result"
    }
   ],
   "source": [
    "s"
   ]
  },
  {
   "cell_type": "code",
   "execution_count": 6,
   "id": "588c2dac",
   "metadata": {},
   "outputs": [
    {
     "name": "stdout",
     "output_type": "stream",
     "text": [
      "Hello Marikh. You are a very handsome young boy\n"
     ]
    }
   ],
   "source": [
    "print(s)"
   ]
  },
  {
   "cell_type": "code",
   "execution_count": 7,
   "id": "469bc7f7",
   "metadata": {},
   "outputs": [],
   "source": [
    "# We can use the multiplication symbol to create repetition!\n",
    "letter = 'z'"
   ]
  },
  {
   "cell_type": "code",
   "execution_count": 8,
   "id": "525957d4",
   "metadata": {},
   "outputs": [
    {
     "data": {
      "text/plain": [
       "'zzzzzzzzzz'"
      ]
     },
     "execution_count": 8,
     "metadata": {},
     "output_type": "execute_result"
    }
   ],
   "source": [
    "letter*10"
   ]
  },
  {
   "cell_type": "code",
   "execution_count": 9,
   "id": "0288463c",
   "metadata": {},
   "outputs": [
    {
     "data": {
      "text/plain": [
       "'Hello Marikh. You are a very handsome young boy'"
      ]
     },
     "execution_count": 9,
     "metadata": {},
     "output_type": "execute_result"
    }
   ],
   "source": [
    "s"
   ]
  },
  {
   "cell_type": "code",
   "execution_count": 11,
   "id": "ef43bbb4",
   "metadata": {},
   "outputs": [
    {
     "data": {
      "text/plain": [
       "'HELLO MARIKH. YOU ARE A VERY HANDSOME YOUNG BOY'"
      ]
     },
     "execution_count": 11,
     "metadata": {},
     "output_type": "execute_result"
    }
   ],
   "source": [
    "s.upper()"
   ]
  },
  {
   "cell_type": "code",
   "execution_count": 12,
   "id": "0a4e5bf5",
   "metadata": {},
   "outputs": [
    {
     "data": {
      "text/plain": [
       "'hello marikh. you are a very handsome young boy'"
      ]
     },
     "execution_count": 12,
     "metadata": {},
     "output_type": "execute_result"
    }
   ],
   "source": [
    "s.lower()"
   ]
  },
  {
   "cell_type": "code",
   "execution_count": 13,
   "id": "f43f26ee",
   "metadata": {},
   "outputs": [
    {
     "data": {
      "text/plain": [
       "['Hello', 'Marikh.', 'You', 'are', 'a', 'very', 'handsome', 'young', 'boy']"
      ]
     },
     "execution_count": 13,
     "metadata": {},
     "output_type": "execute_result"
    }
   ],
   "source": [
    "# Split a string by blank space (this is the default)\n",
    "s.split()"
   ]
  },
  {
   "cell_type": "code",
   "execution_count": 14,
   "id": "39747e3b",
   "metadata": {},
   "outputs": [
    {
     "data": {
      "text/plain": [
       "['Hello ', 'arikh. You are a very handsome young boy']"
      ]
     },
     "execution_count": 14,
     "metadata": {},
     "output_type": "execute_result"
    }
   ],
   "source": [
    "# Split by a specific element (doesn't include the element that was split on)\n",
    "s.split('M')"
   ]
  },
  {
   "cell_type": "code",
   "execution_count": 2,
   "id": "3c46bf7e",
   "metadata": {},
   "outputs": [],
   "source": [
    "## 04: LISTS"
   ]
  },
  {
   "cell_type": "code",
   "execution_count": 4,
   "id": "f2b068a7",
   "metadata": {},
   "outputs": [],
   "source": [
    "# Assign a list to a variable named my_list\n",
    "my_list = [1,2,3]"
   ]
  },
  {
   "cell_type": "code",
   "execution_count": 5,
   "id": "5613cf1d",
   "metadata": {},
   "outputs": [
    {
     "data": {
      "text/plain": [
       "[1, 2, 3]"
      ]
     },
     "execution_count": 5,
     "metadata": {},
     "output_type": "execute_result"
    }
   ],
   "source": [
    "my_list"
   ]
  },
  {
   "cell_type": "code",
   "execution_count": 6,
   "id": "83522352",
   "metadata": {},
   "outputs": [],
   "source": [
    "my_list = ['A string',23,100.232,'o']"
   ]
  },
  {
   "cell_type": "code",
   "execution_count": 7,
   "id": "2ee1e50a",
   "metadata": {},
   "outputs": [
    {
     "data": {
      "text/plain": [
       "['A string', 23, 100.232, 'o']"
      ]
     },
     "execution_count": 7,
     "metadata": {},
     "output_type": "execute_result"
    }
   ],
   "source": [
    "my_list"
   ]
  },
  {
   "cell_type": "code",
   "execution_count": 8,
   "id": "64fb1d8b",
   "metadata": {},
   "outputs": [
    {
     "ename": "SyntaxError",
     "evalue": "invalid syntax (3095238477.py, line 1)",
     "output_type": "error",
     "traceback": [
      "\u001b[0;36m  File \u001b[0;32m\"/var/folders/fx/tj_szvc17v38zxm2_vgmsz380000gq/T/ipykernel_22775/3095238477.py\"\u001b[0;36m, line \u001b[0;32m1\u001b[0m\n\u001b[0;31m    my_list = [A string, 23,100.232,o]\u001b[0m\n\u001b[0m                 ^\u001b[0m\n\u001b[0;31mSyntaxError\u001b[0m\u001b[0;31m:\u001b[0m invalid syntax\n"
     ]
    }
   ],
   "source": [
    "my_list = [A string, 23,100.232,o]"
   ]
  },
  {
   "cell_type": "code",
   "execution_count": 9,
   "id": "1e5c93e0",
   "metadata": {},
   "outputs": [
    {
     "ename": "NameError",
     "evalue": "name 'o' is not defined",
     "output_type": "error",
     "traceback": [
      "\u001b[0;31m---------------------------------------------------------------------------\u001b[0m",
      "\u001b[0;31mNameError\u001b[0m                                 Traceback (most recent call last)",
      "\u001b[0;32m/var/folders/fx/tj_szvc17v38zxm2_vgmsz380000gq/T/ipykernel_22775/385609332.py\u001b[0m in \u001b[0;36m<module>\u001b[0;34m\u001b[0m\n\u001b[0;32m----> 1\u001b[0;31m \u001b[0mmy_list\u001b[0m \u001b[0;34m=\u001b[0m \u001b[0;34m[\u001b[0m\u001b[0;34m'A string'\u001b[0m\u001b[0;34m,\u001b[0m \u001b[0;36m23\u001b[0m\u001b[0;34m,\u001b[0m\u001b[0;36m100.232\u001b[0m\u001b[0;34m,\u001b[0m\u001b[0mo\u001b[0m\u001b[0;34m]\u001b[0m\u001b[0;34m\u001b[0m\u001b[0;34m\u001b[0m\u001b[0m\n\u001b[0m",
      "\u001b[0;31mNameError\u001b[0m: name 'o' is not defined"
     ]
    }
   ],
   "source": [
    "my_list = ['A string', 23,100.232,o]"
   ]
  },
  {
   "cell_type": "code",
   "execution_count": 10,
   "id": "b416c4bc",
   "metadata": {},
   "outputs": [],
   "source": [
    "my_list = ['A string', 23,100.232,'o']"
   ]
  },
  {
   "cell_type": "code",
   "execution_count": 11,
   "id": "e0ac6d59",
   "metadata": {},
   "outputs": [
    {
     "data": {
      "text/plain": [
       "['A string', 23, 100.232, 'o']"
      ]
     },
     "execution_count": 11,
     "metadata": {},
     "output_type": "execute_result"
    }
   ],
   "source": [
    "my_list"
   ]
  },
  {
   "cell_type": "code",
   "execution_count": 12,
   "id": "51cb6f4b",
   "metadata": {},
   "outputs": [
    {
     "data": {
      "text/plain": [
       "4"
      ]
     },
     "execution_count": 12,
     "metadata": {},
     "output_type": "execute_result"
    }
   ],
   "source": [
    "len(my_list)"
   ]
  },
  {
   "cell_type": "code",
   "execution_count": 13,
   "id": "2f0f9df5",
   "metadata": {},
   "outputs": [],
   "source": [
    "## INDEXING AND SLICING"
   ]
  },
  {
   "cell_type": "code",
   "execution_count": 14,
   "id": "bd51036d",
   "metadata": {},
   "outputs": [],
   "source": [
    "# Grab element at index 0"
   ]
  },
  {
   "cell_type": "code",
   "execution_count": 15,
   "id": "b71c1bb3",
   "metadata": {},
   "outputs": [
    {
     "data": {
      "text/plain": [
       "'A string'"
      ]
     },
     "execution_count": 15,
     "metadata": {},
     "output_type": "execute_result"
    }
   ],
   "source": [
    "my_list[0]"
   ]
  },
  {
   "cell_type": "code",
   "execution_count": 17,
   "id": "9ccffa6f",
   "metadata": {},
   "outputs": [],
   "source": [
    "ayunislist = ['rohan', 'andrea', 'hijaz', 'daniel']"
   ]
  },
  {
   "cell_type": "code",
   "execution_count": 18,
   "id": "0f195c06",
   "metadata": {},
   "outputs": [
    {
     "data": {
      "text/plain": [
       "['rohan', 'andrea', 'hijaz', 'daniel']"
      ]
     },
     "execution_count": 18,
     "metadata": {},
     "output_type": "execute_result"
    }
   ],
   "source": [
    "ayunislist"
   ]
  },
  {
   "cell_type": "code",
   "execution_count": 19,
   "id": "9ea9627b",
   "metadata": {},
   "outputs": [
    {
     "data": {
      "text/plain": [
       "'rohan'"
      ]
     },
     "execution_count": 19,
     "metadata": {},
     "output_type": "execute_result"
    }
   ],
   "source": [
    "ayunislist[0]"
   ]
  },
  {
   "cell_type": "code",
   "execution_count": 20,
   "id": "7cc51523",
   "metadata": {},
   "outputs": [
    {
     "data": {
      "text/plain": [
       "['andrea', 'hijaz', 'daniel']"
      ]
     },
     "execution_count": 20,
     "metadata": {},
     "output_type": "execute_result"
    }
   ],
   "source": [
    "# Grab index 1 and everything past it\n",
    "ayunislist[1:]"
   ]
  },
  {
   "cell_type": "code",
   "execution_count": 21,
   "id": "9232be48",
   "metadata": {},
   "outputs": [
    {
     "data": {
      "text/plain": [
       "['rohan', 'andrea', 'hijaz']"
      ]
     },
     "execution_count": 21,
     "metadata": {},
     "output_type": "execute_result"
    }
   ],
   "source": [
    "# Grab everything UP TO index 3\n",
    "ayunislist[:3]"
   ]
  },
  {
   "cell_type": "code",
   "execution_count": 24,
   "id": "aefe95b4",
   "metadata": {},
   "outputs": [
    {
     "data": {
      "text/plain": [
       "['rohan', 'andrea', 'hijaz', 'daniel', 'namjoohyuk']"
      ]
     },
     "execution_count": 24,
     "metadata": {},
     "output_type": "execute_result"
    }
   ],
   "source": [
    "# Concatenate ayunislist\n",
    "ayunislist + ['namjoohyuk']"
   ]
  },
  {
   "cell_type": "code",
   "execution_count": 25,
   "id": "c7ca0637",
   "metadata": {},
   "outputs": [
    {
     "data": {
      "text/plain": [
       "['rohan', 'andrea', 'hijaz', 'daniel']"
      ]
     },
     "execution_count": 25,
     "metadata": {},
     "output_type": "execute_result"
    }
   ],
   "source": [
    "ayunislist"
   ]
  },
  {
   "cell_type": "code",
   "execution_count": 29,
   "id": "af2650b1",
   "metadata": {},
   "outputs": [],
   "source": [
    "# to add new list permanently, must reassign\n",
    "ayunislist = ayunislist + ['namjoohyuk']"
   ]
  },
  {
   "cell_type": "code",
   "execution_count": 30,
   "id": "e688d268",
   "metadata": {},
   "outputs": [
    {
     "data": {
      "text/plain": [
       "['rohan', 'andrea', 'hijaz', 'daniel', 'namjoohyuk']"
      ]
     },
     "execution_count": 30,
     "metadata": {},
     "output_type": "execute_result"
    }
   ],
   "source": [
    "ayunislist"
   ]
  },
  {
   "cell_type": "code",
   "execution_count": 32,
   "id": "f8a58f44",
   "metadata": {},
   "outputs": [
    {
     "data": {
      "text/plain": [
       "['rohan',\n",
       " 'andrea',\n",
       " 'hijaz',\n",
       " 'daniel',\n",
       " 'namjoohyuk',\n",
       " 'rohan',\n",
       " 'andrea',\n",
       " 'hijaz',\n",
       " 'daniel',\n",
       " 'namjoohyuk']"
      ]
     },
     "execution_count": 32,
     "metadata": {},
     "output_type": "execute_result"
    }
   ],
   "source": [
    "# make the list double\n",
    "ayunislist * 2"
   ]
  },
  {
   "cell_type": "code",
   "execution_count": 33,
   "id": "9be759da",
   "metadata": {},
   "outputs": [
    {
     "data": {
      "text/plain": [
       "['rohan', 'andrea', 'hijaz', 'daniel', 'namjoohyuk']"
      ]
     },
     "execution_count": 33,
     "metadata": {},
     "output_type": "execute_result"
    }
   ],
   "source": [
    "ayunislist"
   ]
  },
  {
   "cell_type": "code",
   "execution_count": 34,
   "id": "ad96e790",
   "metadata": {},
   "outputs": [],
   "source": [
    "## BASIC LIST METHODS"
   ]
  },
  {
   "cell_type": "code",
   "execution_count": 36,
   "id": "1d21d15d",
   "metadata": {},
   "outputs": [],
   "source": [
    "# Create a new list\n",
    "myoppas = ['hyunbin','gongyoo','namjoohyuk','rain']"
   ]
  },
  {
   "cell_type": "code",
   "execution_count": 37,
   "id": "ce92718c",
   "metadata": {},
   "outputs": [
    {
     "data": {
      "text/plain": [
       "['hyunbin', 'gongyoo', 'namjoohyuk', 'rain']"
      ]
     },
     "execution_count": 37,
     "metadata": {},
     "output_type": "execute_result"
    }
   ],
   "source": [
    "myoppas"
   ]
  },
  {
   "cell_type": "code",
   "execution_count": 38,
   "id": "d0955649",
   "metadata": {},
   "outputs": [],
   "source": [
    "# Append\n",
    "myoppas.append('taemin')"
   ]
  },
  {
   "cell_type": "code",
   "execution_count": 39,
   "id": "965e43f9",
   "metadata": {},
   "outputs": [
    {
     "data": {
      "text/plain": [
       "['hyunbin', 'gongyoo', 'namjoohyuk', 'rain', 'taemin']"
      ]
     },
     "execution_count": 39,
     "metadata": {},
     "output_type": "execute_result"
    }
   ],
   "source": [
    "myoppas"
   ]
  },
  {
   "cell_type": "code",
   "execution_count": 41,
   "id": "bed25987",
   "metadata": {},
   "outputs": [
    {
     "data": {
      "text/plain": [
       "'hyunbin'"
      ]
     },
     "execution_count": 41,
     "metadata": {},
     "output_type": "execute_result"
    }
   ],
   "source": [
    "# pop off the first oppa from the list\n",
    "myoppas.pop(0)"
   ]
  },
  {
   "cell_type": "code",
   "execution_count": 44,
   "id": "cec621ed",
   "metadata": {},
   "outputs": [
    {
     "data": {
      "text/plain": [
       "['gongyoo', 'namjoohyuk', 'rain']"
      ]
     },
     "execution_count": 44,
     "metadata": {},
     "output_type": "execute_result"
    }
   ],
   "source": [
    "# see the result again\n",
    "myoppas"
   ]
  },
  {
   "cell_type": "code",
   "execution_count": 43,
   "id": "e6816899",
   "metadata": {},
   "outputs": [],
   "source": [
    "#assign the popped element, remember default popped index is -1\n",
    "popped_myoppas = myoppas.pop()"
   ]
  },
  {
   "cell_type": "code",
   "execution_count": 45,
   "id": "c7317e0c",
   "metadata": {},
   "outputs": [
    {
     "data": {
      "text/plain": [
       "'taemin'"
      ]
     },
     "execution_count": 45,
     "metadata": {},
     "output_type": "execute_result"
    }
   ],
   "source": [
    "popped_myoppas"
   ]
  },
  {
   "cell_type": "code",
   "execution_count": 46,
   "id": "500701dc",
   "metadata": {},
   "outputs": [
    {
     "data": {
      "text/plain": [
       "['gongyoo', 'namjoohyuk', 'rain']"
      ]
     },
     "execution_count": 46,
     "metadata": {},
     "output_type": "execute_result"
    }
   ],
   "source": [
    "#show remaining list\n",
    "myoppas"
   ]
  },
  {
   "cell_type": "code",
   "execution_count": 47,
   "id": "2977db2d",
   "metadata": {},
   "outputs": [
    {
     "ename": "IndexError",
     "evalue": "list index out of range",
     "output_type": "error",
     "traceback": [
      "\u001b[0;31m---------------------------------------------------------------------------\u001b[0m",
      "\u001b[0;31mIndexError\u001b[0m                                Traceback (most recent call last)",
      "\u001b[0;32m/var/folders/fx/tj_szvc17v38zxm2_vgmsz380000gq/T/ipykernel_22775/4145397316.py\u001b[0m in \u001b[0;36m<module>\u001b[0;34m\u001b[0m\n\u001b[1;32m      1\u001b[0m \u001b[0;31m#list indexing will return an error if there is no element at that index. for an example, ayuni doesn't have 100 oppas so python won't recognise that.\u001b[0m\u001b[0;34m\u001b[0m\u001b[0;34m\u001b[0m\u001b[0m\n\u001b[0;32m----> 2\u001b[0;31m \u001b[0mmyoppas\u001b[0m\u001b[0;34m[\u001b[0m\u001b[0;36m50\u001b[0m\u001b[0;34m]\u001b[0m\u001b[0;34m\u001b[0m\u001b[0;34m\u001b[0m\u001b[0m\n\u001b[0m",
      "\u001b[0;31mIndexError\u001b[0m: list index out of range"
     ]
    }
   ],
   "source": [
    "#list indexing will return an error if there is no element at that index. for an example, ayuni doesn't have 100 oppas so python won't recognise that.\n",
    "myoppas[50]"
   ]
  },
  {
   "cell_type": "code",
   "execution_count": 49,
   "id": "361e3f2d",
   "metadata": {},
   "outputs": [],
   "source": [
    "# we can use the SORT method or the REVERSE method to also effect your lists:\n",
    "newoppas = ['sojisub','parkseojun','kanghaneul','parkhyungsik']"
   ]
  },
  {
   "cell_type": "code",
   "execution_count": 50,
   "id": "8af997b8",
   "metadata": {},
   "outputs": [],
   "source": []
  },
  {
   "cell_type": "code",
   "execution_count": 51,
   "id": "4cc07b3a",
   "metadata": {},
   "outputs": [
    {
     "data": {
      "text/plain": [
       "['sojisub', 'parkseojun', 'kanghaneul', 'parkhyungsik']"
      ]
     },
     "execution_count": 51,
     "metadata": {},
     "output_type": "execute_result"
    }
   ],
   "source": [
    "newoppas"
   ]
  },
  {
   "cell_type": "code",
   "execution_count": 52,
   "id": "22332394",
   "metadata": {},
   "outputs": [],
   "source": [
    "# use reverse to reverse order (this is permanent)\n",
    "newoppas.reverse()"
   ]
  },
  {
   "cell_type": "code",
   "execution_count": 53,
   "id": "183d55e8",
   "metadata": {},
   "outputs": [
    {
     "data": {
      "text/plain": [
       "['parkhyungsik', 'kanghaneul', 'parkseojun', 'sojisub']"
      ]
     },
     "execution_count": 53,
     "metadata": {},
     "output_type": "execute_result"
    }
   ],
   "source": [
    "newoppas"
   ]
  },
  {
   "cell_type": "code",
   "execution_count": 55,
   "id": "beaa74ac",
   "metadata": {},
   "outputs": [],
   "source": [
    "# use sort to sort the list in alphabetical order, but for numbers it will go ascending\n",
    "newoppas.sort()"
   ]
  },
  {
   "cell_type": "code",
   "execution_count": 56,
   "id": "b25fd19b",
   "metadata": {},
   "outputs": [
    {
     "data": {
      "text/plain": [
       "['kanghaneul', 'parkhyungsik', 'parkseojun', 'sojisub']"
      ]
     },
     "execution_count": 56,
     "metadata": {},
     "output_type": "execute_result"
    }
   ],
   "source": [
    "newoppas"
   ]
  },
  {
   "cell_type": "code",
   "execution_count": 57,
   "id": "7c909a23",
   "metadata": {},
   "outputs": [],
   "source": [
    "# NESTING LISTS"
   ]
  },
  {
   "cell_type": "code",
   "execution_count": 61,
   "id": "4f7725a1",
   "metadata": {},
   "outputs": [],
   "source": [
    "#let's make three lists\n",
    "oppas = ['namjoohyuk','parkseojoon','kanghaneul','hyunbin']\n",
    "eonnies = ['yoonseri','ssunbiki','taeyeon','yoonmirae']\n",
    "bffs = ['julie','haslinda','nadia','noria','hajar']\n",
    "\n",
    "# make a list of lists to form a matrix\n",
    "matrix = [oppas,eonnies,bffs]"
   ]
  },
  {
   "cell_type": "code",
   "execution_count": 63,
   "id": "9eb32827",
   "metadata": {},
   "outputs": [
    {
     "data": {
      "text/plain": [
       "[['namjoohyuk', 'parkseojoon', 'kanghaneul', 'hyunbin'],\n",
       " ['yoonseri', 'ssunbiki', 'taeyeon', 'yoonmirae'],\n",
       " ['julie', 'haslinda', 'nadia', 'noria', 'hajar']]"
      ]
     },
     "execution_count": 63,
     "metadata": {},
     "output_type": "execute_result"
    }
   ],
   "source": [
    "#show\n",
    "matrix"
   ]
  },
  {
   "cell_type": "code",
   "execution_count": 64,
   "id": "30c4b8d1",
   "metadata": {},
   "outputs": [
    {
     "data": {
      "text/plain": [
       "['namjoohyuk', 'parkseojoon', 'kanghaneul', 'hyunbin']"
      ]
     },
     "execution_count": 64,
     "metadata": {},
     "output_type": "execute_result"
    }
   ],
   "source": [
    "# Grab first item in matrix object\n",
    "matrix[0]"
   ]
  },
  {
   "cell_type": "code",
   "execution_count": 65,
   "id": "53828f32",
   "metadata": {},
   "outputs": [
    {
     "data": {
      "text/plain": [
       "'namjoohyuk'"
      ]
     },
     "execution_count": 65,
     "metadata": {},
     "output_type": "execute_result"
    }
   ],
   "source": [
    "# grab first item of the first item in the matrix object\n",
    "matrix[0][0]"
   ]
  },
  {
   "cell_type": "code",
   "execution_count": 66,
   "id": "49671e4a",
   "metadata": {},
   "outputs": [],
   "source": [
    "# LIST COMPREHENSIONS"
   ]
  },
  {
   "cell_type": "code",
   "execution_count": 67,
   "id": "09e3155e",
   "metadata": {},
   "outputs": [],
   "source": [
    "# Build a list comprehension by deconstructing a for loop within a []\n",
    "first_col = [row[0] for row in matrix]"
   ]
  },
  {
   "cell_type": "code",
   "execution_count": 68,
   "id": "fe2e0d1a",
   "metadata": {},
   "outputs": [
    {
     "data": {
      "text/plain": [
       "['namjoohyuk', 'yoonseri', 'julie']"
      ]
     },
     "execution_count": 68,
     "metadata": {},
     "output_type": "execute_result"
    }
   ],
   "source": [
    "first_col"
   ]
  },
  {
   "cell_type": "code",
   "execution_count": 69,
   "id": "c1ec0f48",
   "metadata": {},
   "outputs": [],
   "source": [
    "## DICTIONARIES"
   ]
  },
  {
   "cell_type": "code",
   "execution_count": 70,
   "id": "c33c25c9",
   "metadata": {},
   "outputs": [],
   "source": [
    "# Make a dictionary with {} and : to signify a key and a value.\n",
    "koreandict = {'sojisub':'40','hyunbin':'50'}"
   ]
  },
  {
   "cell_type": "code",
   "execution_count": 71,
   "id": "a0f929a4",
   "metadata": {},
   "outputs": [
    {
     "data": {
      "text/plain": [
       "{'sojisub': '40', 'hyunbin': '50'}"
      ]
     },
     "execution_count": 71,
     "metadata": {},
     "output_type": "execute_result"
    }
   ],
   "source": [
    "koreandict"
   ]
  },
  {
   "cell_type": "code",
   "execution_count": 73,
   "id": "89569bed",
   "metadata": {},
   "outputs": [
    {
     "data": {
      "text/plain": [
       "'40'"
      ]
     },
     "execution_count": 73,
     "metadata": {},
     "output_type": "execute_result"
    }
   ],
   "source": [
    "koreandict['sojisub']"
   ]
  },
  {
   "cell_type": "code",
   "execution_count": 74,
   "id": "69912ee2",
   "metadata": {},
   "outputs": [],
   "source": [
    "koreandict = {'sojisub':40,'hyunbin':[12,23,33],'yoonmirae':['hana','dul','set']}"
   ]
  },
  {
   "cell_type": "code",
   "execution_count": 75,
   "id": "84afc715",
   "metadata": {},
   "outputs": [
    {
     "data": {
      "text/plain": [
       "{'sojisub': 40, 'hyunbin': [12, 23, 33], 'yoonmirae': ['hana', 'dul', 'set']}"
      ]
     },
     "execution_count": 75,
     "metadata": {},
     "output_type": "execute_result"
    }
   ],
   "source": [
    "koreandict"
   ]
  },
  {
   "cell_type": "code",
   "execution_count": 76,
   "id": "eb3ad0a6",
   "metadata": {},
   "outputs": [
    {
     "data": {
      "text/plain": [
       "['hana', 'dul', 'set']"
      ]
     },
     "execution_count": 76,
     "metadata": {},
     "output_type": "execute_result"
    }
   ],
   "source": [
    "# Let's call items from the dictionary\n",
    "koreandict['yoonmirae']"
   ]
  },
  {
   "cell_type": "code",
   "execution_count": 77,
   "id": "b133f3d3",
   "metadata": {},
   "outputs": [
    {
     "data": {
      "text/plain": [
       "'dul'"
      ]
     },
     "execution_count": 77,
     "metadata": {},
     "output_type": "execute_result"
    }
   ],
   "source": [
    "# Call an index on that value.\n",
    "koreandict['yoonmirae'][1]"
   ]
  },
  {
   "cell_type": "code",
   "execution_count": 79,
   "id": "b6108651",
   "metadata": {},
   "outputs": [
    {
     "data": {
      "text/plain": [
       "'DUL'"
      ]
     },
     "execution_count": 79,
     "metadata": {},
     "output_type": "execute_result"
    }
   ],
   "source": [
    "# Call methods on that value\n",
    "koreandict['yoonmirae'][1].upper()"
   ]
  },
  {
   "cell_type": "code",
   "execution_count": 80,
   "id": "5d683df5",
   "metadata": {},
   "outputs": [
    {
     "data": {
      "text/plain": [
       "40"
      ]
     },
     "execution_count": 80,
     "metadata": {},
     "output_type": "execute_result"
    }
   ],
   "source": [
    "#We can affect the values of a key as well. \n",
    "koreandict['sojisub']"
   ]
  },
  {
   "cell_type": "code",
   "execution_count": 81,
   "id": "08fff7ce",
   "metadata": {},
   "outputs": [],
   "source": [
    "# Substract 23 from the value\n",
    "koreandict['sojisub'] = koreandict['sojisub'] - 23"
   ]
  },
  {
   "cell_type": "code",
   "execution_count": 83,
   "id": "2c8c8337",
   "metadata": {},
   "outputs": [
    {
     "data": {
      "text/plain": [
       "17"
      ]
     },
     "execution_count": 83,
     "metadata": {},
     "output_type": "execute_result"
    }
   ],
   "source": [
    "#check\n",
    "koreandict['sojisub']"
   ]
  },
  {
   "cell_type": "code",
   "execution_count": 84,
   "id": "0f12d8a1",
   "metadata": {},
   "outputs": [
    {
     "data": {
      "text/plain": [
       "-106"
      ]
     },
     "execution_count": 84,
     "metadata": {},
     "output_type": "execute_result"
    }
   ],
   "source": [
    "# Set the object equal to itself minus 123\n",
    "koreandict['sojisub'] -= 123\n",
    "koreandict['sojisub']"
   ]
  },
  {
   "cell_type": "code",
   "execution_count": 87,
   "id": "1362e172",
   "metadata": {},
   "outputs": [],
   "source": [
    "# We can also create keys by assignment. For an example if we started off with an empty dictionry, we could continually add to it."
   ]
  },
  {
   "cell_type": "raw",
   "id": "a4292655",
   "metadata": {},
   "source": []
  },
  {
   "cell_type": "code",
   "execution_count": 1,
   "id": "b12b6190",
   "metadata": {},
   "outputs": [],
   "source": [
    "# Create a new dictionary\n",
    "d = {}"
   ]
  },
  {
   "cell_type": "code",
   "execution_count": 2,
   "id": "4438ab85",
   "metadata": {},
   "outputs": [],
   "source": [
    "# Create a new key through assignment\n",
    "d['italian_surname'] = 'Verolino'"
   ]
  },
  {
   "cell_type": "code",
   "execution_count": 4,
   "id": "ea3423ca",
   "metadata": {},
   "outputs": [],
   "source": [
    "# Can do this with any object\n",
    "d['occupation'] = 'volcanologist'"
   ]
  },
  {
   "cell_type": "code",
   "execution_count": 5,
   "id": "235ac7d2",
   "metadata": {},
   "outputs": [
    {
     "data": {
      "text/plain": [
       "{'italian_surname': 'Verolino', 'occupation': 'volcanologist'}"
      ]
     },
     "execution_count": 5,
     "metadata": {},
     "output_type": "execute_result"
    }
   ],
   "source": [
    "d"
   ]
  },
  {
   "cell_type": "code",
   "execution_count": 6,
   "id": "81968ece",
   "metadata": {},
   "outputs": [],
   "source": [
    "## NESTING WITH DICTIONARIES"
   ]
  },
  {
   "cell_type": "code",
   "execution_count": 7,
   "id": "956c4d1c",
   "metadata": {},
   "outputs": [],
   "source": [
    "# Dictionary nested inside a dictionary inside a dictionary\n",
    "d = {'key1':{'nestkey':{'subnestkey':'value'}}}"
   ]
  },
  {
   "cell_type": "code",
   "execution_count": 8,
   "id": "e56fd6a3",
   "metadata": {},
   "outputs": [
    {
     "data": {
      "text/plain": [
       "{'key1': {'nestkey': {'subnestkey': 'value'}}}"
      ]
     },
     "execution_count": 8,
     "metadata": {},
     "output_type": "execute_result"
    }
   ],
   "source": [
    "d"
   ]
  },
  {
   "cell_type": "code",
   "execution_count": 9,
   "id": "d7c625ce",
   "metadata": {},
   "outputs": [
    {
     "data": {
      "text/plain": [
       "'value'"
      ]
     },
     "execution_count": 9,
     "metadata": {},
     "output_type": "execute_result"
    }
   ],
   "source": [
    "# Keep calling the keys\n",
    "d['key1']['nestkey']['subnestkey']"
   ]
  },
  {
   "cell_type": "code",
   "execution_count": 1,
   "id": "28faef40",
   "metadata": {},
   "outputs": [],
   "source": [
    "## TUPLES are just like lists. But lists is mutable. Tuples are immutable."
   ]
  },
  {
   "cell_type": "code",
   "execution_count": 2,
   "id": "74560786",
   "metadata": {},
   "outputs": [],
   "source": [
    "# Create a tuple\n",
    "t = (1,2,3)"
   ]
  },
  {
   "cell_type": "code",
   "execution_count": 4,
   "id": "a0a0f593",
   "metadata": {},
   "outputs": [
    {
     "data": {
      "text/plain": [
       "3"
      ]
     },
     "execution_count": 4,
     "metadata": {},
     "output_type": "execute_result"
    }
   ],
   "source": [
    "# Check len just like a list\n",
    "len(t)"
   ]
  },
  {
   "cell_type": "code",
   "execution_count": 12,
   "id": "53103c49",
   "metadata": {},
   "outputs": [
    {
     "data": {
      "text/plain": [
       "('rijonghyuk', 6)"
      ]
     },
     "execution_count": 12,
     "metadata": {},
     "output_type": "execute_result"
    }
   ],
   "source": [
    "# Can also mix object types\n",
    "t = ('rijonghyuk', 6)\n",
    "t"
   ]
  },
  {
   "cell_type": "code",
   "execution_count": 13,
   "id": "39b4ae66",
   "metadata": {},
   "outputs": [
    {
     "data": {
      "text/plain": [
       "'rijonghyuk'"
      ]
     },
     "execution_count": 13,
     "metadata": {},
     "output_type": "execute_result"
    }
   ],
   "source": [
    "# Use indexing just like we did in the lists\n",
    "t[0]"
   ]
  },
  {
   "cell_type": "code",
   "execution_count": 14,
   "id": "6307d6fd",
   "metadata": {},
   "outputs": [
    {
     "data": {
      "text/plain": [
       "6"
      ]
     },
     "execution_count": 14,
     "metadata": {},
     "output_type": "execute_result"
    }
   ],
   "source": [
    "# Slicing just like a list\n",
    "t[-1]"
   ]
  },
  {
   "cell_type": "code",
   "execution_count": 9,
   "id": "a5598a73",
   "metadata": {},
   "outputs": [],
   "source": [
    "# BASIC TUPLE METHODS"
   ]
  },
  {
   "cell_type": "code",
   "execution_count": 15,
   "id": "9579eb64",
   "metadata": {},
   "outputs": [
    {
     "data": {
      "text/plain": [
       "0"
      ]
     },
     "execution_count": 15,
     "metadata": {},
     "output_type": "execute_result"
    }
   ],
   "source": [
    "# Use .index to enter a value and return the index\n",
    "t.index('rijonghyuk')"
   ]
  },
  {
   "cell_type": "code",
   "execution_count": 16,
   "id": "28d20492",
   "metadata": {},
   "outputs": [
    {
     "data": {
      "text/plain": [
       "1"
      ]
     },
     "execution_count": 16,
     "metadata": {},
     "output_type": "execute_result"
    }
   ],
   "source": [
    "# Use .count to count the number of times a value appears\n",
    "t.count('rijonghyuk')"
   ]
  },
  {
   "cell_type": "code",
   "execution_count": 17,
   "id": "d3837550",
   "metadata": {},
   "outputs": [],
   "source": [
    "# IMMUTABILITY"
   ]
  },
  {
   "cell_type": "code",
   "execution_count": 18,
   "id": "2e4e85d3",
   "metadata": {},
   "outputs": [
    {
     "ename": "TypeError",
     "evalue": "'tuple' object does not support item assignment",
     "output_type": "error",
     "traceback": [
      "\u001b[0;31m---------------------------------------------------------------------------\u001b[0m",
      "\u001b[0;31mTypeError\u001b[0m                                 Traceback (most recent call last)",
      "\u001b[0;32m/var/folders/fx/tj_szvc17v38zxm2_vgmsz380000gq/T/ipykernel_12104/1699859613.py\u001b[0m in \u001b[0;36m<module>\u001b[0;34m\u001b[0m\n\u001b[0;32m----> 1\u001b[0;31m \u001b[0mt\u001b[0m\u001b[0;34m[\u001b[0m\u001b[0;36m0\u001b[0m\u001b[0;34m]\u001b[0m\u001b[0;34m=\u001b[0m \u001b[0;34m'rainjypswitchtome'\u001b[0m\u001b[0;34m\u001b[0m\u001b[0;34m\u001b[0m\u001b[0m\n\u001b[0m",
      "\u001b[0;31mTypeError\u001b[0m: 'tuple' object does not support item assignment"
     ]
    }
   ],
   "source": [
    "t[0]= 'rainjypswitchtome'"
   ]
  },
  {
   "cell_type": "code",
   "execution_count": 19,
   "id": "34743839",
   "metadata": {},
   "outputs": [
    {
     "ename": "AttributeError",
     "evalue": "'tuple' object has no attribute 'append'",
     "output_type": "error",
     "traceback": [
      "\u001b[0;31m---------------------------------------------------------------------------\u001b[0m",
      "\u001b[0;31mAttributeError\u001b[0m                            Traceback (most recent call last)",
      "\u001b[0;32m/var/folders/fx/tj_szvc17v38zxm2_vgmsz380000gq/T/ipykernel_12104/3643619946.py\u001b[0m in \u001b[0;36m<module>\u001b[0;34m\u001b[0m\n\u001b[0;32m----> 1\u001b[0;31m \u001b[0mt\u001b[0m\u001b[0;34m.\u001b[0m\u001b[0mappend\u001b[0m\u001b[0;34m(\u001b[0m\u001b[0;34m'rainlovehyunbin'\u001b[0m\u001b[0;34m)\u001b[0m\u001b[0;34m\u001b[0m\u001b[0;34m\u001b[0m\u001b[0m\n\u001b[0m",
      "\u001b[0;31mAttributeError\u001b[0m: 'tuple' object has no attribute 'append'"
     ]
    }
   ],
   "source": [
    "t.append('rainlovehyunbin')"
   ]
  },
  {
   "cell_type": "code",
   "execution_count": 20,
   "id": "c50e4d72",
   "metadata": {},
   "outputs": [],
   "source": [
    "# When to use Tuples? When immutability is necessary. For data integiry. "
   ]
  },
  {
   "cell_type": "code",
   "execution_count": 23,
   "id": "c0ff3d6a",
   "metadata": {},
   "outputs": [],
   "source": [
    "# SETS: Unordered collection of unique elements. We can construct them by using the set() function.\n",
    "x = set()"
   ]
  },
  {
   "cell_type": "code",
   "execution_count": 26,
   "id": "456675a5",
   "metadata": {},
   "outputs": [
    {
     "data": {
      "text/plain": [
       "{1}"
      ]
     },
     "execution_count": 26,
     "metadata": {},
     "output_type": "execute_result"
    }
   ],
   "source": [
    "x"
   ]
  },
  {
   "cell_type": "code",
   "execution_count": 27,
   "id": "a2f9e460",
   "metadata": {},
   "outputs": [],
   "source": [
    "# We add to sets with the add() method\n",
    "x.add(1)"
   ]
  },
  {
   "cell_type": "code",
   "execution_count": 31,
   "id": "1129b7f1",
   "metadata": {},
   "outputs": [
    {
     "data": {
      "text/plain": [
       "{1}"
      ]
     },
     "execution_count": 31,
     "metadata": {},
     "output_type": "execute_result"
    }
   ],
   "source": [
    "#Show\n",
    "x"
   ]
  },
  {
   "cell_type": "code",
   "execution_count": 32,
   "id": "f4b1f3c8",
   "metadata": {},
   "outputs": [],
   "source": [
    "# A set has only unique entries. What happens when we try to add something that is already in a set?\n",
    "x.add(2)"
   ]
  },
  {
   "cell_type": "code",
   "execution_count": 34,
   "id": "be8dcc63",
   "metadata": {},
   "outputs": [
    {
     "data": {
      "text/plain": [
       "{1, 2}"
      ]
     },
     "execution_count": 34,
     "metadata": {},
     "output_type": "execute_result"
    }
   ],
   "source": [
    "# Show\n",
    "x"
   ]
  },
  {
   "cell_type": "code",
   "execution_count": 35,
   "id": "e7e5bcf0",
   "metadata": {},
   "outputs": [],
   "source": [
    "# Try to add the same element\n",
    "x.add(2)"
   ]
  },
  {
   "cell_type": "code",
   "execution_count": 37,
   "id": "bde766d6",
   "metadata": {},
   "outputs": [
    {
     "data": {
      "text/plain": [
       "{1, 2}"
      ]
     },
     "execution_count": 37,
     "metadata": {},
     "output_type": "execute_result"
    }
   ],
   "source": [
    "#Show\n",
    "x"
   ]
  },
  {
   "cell_type": "code",
   "execution_count": 39,
   "id": "2bf9bbff",
   "metadata": {},
   "outputs": [],
   "source": [
    "# Try to add the same element\n",
    "x.add(1)"
   ]
  },
  {
   "cell_type": "code",
   "execution_count": 41,
   "id": "7d39eee9",
   "metadata": {},
   "outputs": [
    {
     "data": {
      "text/plain": [
       "{1, 2}"
      ]
     },
     "execution_count": 41,
     "metadata": {},
     "output_type": "execute_result"
    }
   ],
   "source": [
    "# Show\n",
    "x"
   ]
  },
  {
   "cell_type": "code",
   "execution_count": 1,
   "id": "f0d77faf",
   "metadata": {},
   "outputs": [],
   "source": [
    "# Set is only concerned with unique elements\n",
    "bffs = ('juliana', 'haslinda', 'hajar', 'noria', 'noria', 'noria')"
   ]
  },
  {
   "cell_type": "code",
   "execution_count": 2,
   "id": "ce3712bb",
   "metadata": {},
   "outputs": [
    {
     "data": {
      "text/plain": [
       "('juliana', 'haslinda', 'hajar', 'noria', 'noria', 'noria')"
      ]
     },
     "execution_count": 2,
     "metadata": {},
     "output_type": "execute_result"
    }
   ],
   "source": [
    "bffs"
   ]
  },
  {
   "cell_type": "code",
   "execution_count": 4,
   "id": "dc9044f4",
   "metadata": {},
   "outputs": [
    {
     "data": {
      "text/plain": [
       "{'hajar', 'haslinda', 'juliana', 'noria'}"
      ]
     },
     "execution_count": 4,
     "metadata": {},
     "output_type": "execute_result"
    }
   ],
   "source": [
    "# Cast a set to get unique values\n",
    "set(bffs)"
   ]
  },
  {
   "cell_type": "code",
   "execution_count": 5,
   "id": "171d4eb2",
   "metadata": {},
   "outputs": [],
   "source": [
    "# Set is used for data integrity. Cannot have 3 husbands. Integrity.\n",
    "menofdreams = ('namjoohyuk', 'hyunbin', 'chrishemsworth', 'barackobama', 'chrishemsworth', 'chrishemsworth')"
   ]
  },
  {
   "cell_type": "code",
   "execution_count": 6,
   "id": "c8b06b9e",
   "metadata": {},
   "outputs": [
    {
     "data": {
      "text/plain": [
       "('namjoohyuk',\n",
       " 'hyunbin',\n",
       " 'chrishemsworth',\n",
       " 'barackobama',\n",
       " 'chrishemsworth',\n",
       " 'chrishemsworth')"
      ]
     },
     "execution_count": 6,
     "metadata": {},
     "output_type": "execute_result"
    }
   ],
   "source": [
    "menofdreams"
   ]
  },
  {
   "cell_type": "code",
   "execution_count": 7,
   "id": "0e75f640",
   "metadata": {},
   "outputs": [
    {
     "data": {
      "text/plain": [
       "{'barackobama', 'chrishemsworth', 'hyunbin', 'namjoohyuk'}"
      ]
     },
     "execution_count": 7,
     "metadata": {},
     "output_type": "execute_result"
    }
   ],
   "source": [
    "set(menofdreams)"
   ]
  },
  {
   "cell_type": "code",
   "execution_count": 10,
   "id": "b58c315c",
   "metadata": {},
   "outputs": [],
   "source": [
    "## BOOLEANS\n",
    "# Set object to be a Boolean\n",
    "namjoohyuk = True"
   ]
  },
  {
   "cell_type": "code",
   "execution_count": 12,
   "id": "85f60eb1",
   "metadata": {},
   "outputs": [
    {
     "data": {
      "text/plain": [
       "True"
      ]
     },
     "execution_count": 12,
     "metadata": {},
     "output_type": "execute_result"
    }
   ],
   "source": [
    "#Show\n",
    "namjoohyuk"
   ]
  },
  {
   "cell_type": "code",
   "execution_count": 13,
   "id": "29b3cd67",
   "metadata": {},
   "outputs": [
    {
     "data": {
      "text/plain": [
       "False"
      ]
     },
     "execution_count": 13,
     "metadata": {},
     "output_type": "execute_result"
    }
   ],
   "source": [
    "# Output is boolean\n",
    "1 > 2"
   ]
  },
  {
   "cell_type": "code",
   "execution_count": 14,
   "id": "aa4fc2f3",
   "metadata": {},
   "outputs": [
    {
     "data": {
      "text/plain": [
       "True"
      ]
     },
     "execution_count": 14,
     "metadata": {},
     "output_type": "execute_result"
    }
   ],
   "source": [
    "1 < 2"
   ]
  },
  {
   "cell_type": "code",
   "execution_count": 16,
   "id": "eaa404e9",
   "metadata": {},
   "outputs": [],
   "source": [
    "# We can use None as a placeholder for an object that we don't want to reassign yet:\n",
    "b = None"
   ]
  },
  {
   "cell_type": "code",
   "execution_count": 17,
   "id": "395ba79b",
   "metadata": {},
   "outputs": [
    {
     "name": "stdout",
     "output_type": "stream",
     "text": [
      "None\n"
     ]
    }
   ],
   "source": [
    "print(b)"
   ]
  },
  {
   "cell_type": "code",
   "execution_count": 2,
   "id": "58d966cd",
   "metadata": {},
   "outputs": [
    {
     "ename": "SyntaxError",
     "evalue": "invalid syntax (3780142284.py, line 3)",
     "output_type": "error",
     "traceback": [
      "\u001b[0;36m  File \u001b[0;32m\"/var/folders/fx/tj_szvc17v38zxm2_vgmsz380000gq/T/ipykernel_4533/3780142284.py\"\u001b[0;36m, line \u001b[0;32m3\u001b[0m\n\u001b[0;31m    Chris is an actor.\u001b[0m\n\u001b[0m                ^\u001b[0m\n\u001b[0;31mSyntaxError\u001b[0m\u001b[0;31m:\u001b[0m invalid syntax\n"
     ]
    }
   ],
   "source": [
    "## FILES \n",
    "%%writefile chrishemsworth.txt\n",
    "Chris is an actor."
   ]
  },
  {
   "cell_type": "code",
   "execution_count": 3,
   "id": "801255cb",
   "metadata": {},
   "outputs": [
    {
     "name": "stdout",
     "output_type": "stream",
     "text": [
      "Writing chrishemsworth.txt\n"
     ]
    }
   ],
   "source": [
    "%%writefile chrishemsworth.txt\n",
    "Chris is an actor."
   ]
  },
  {
   "cell_type": "code",
   "execution_count": 5,
   "id": "0c40a533",
   "metadata": {},
   "outputs": [],
   "source": [
    "## Open the file, Ayuni\n",
    "myfile = open('chrishemsworth.txt')"
   ]
  },
  {
   "cell_type": "code",
   "execution_count": 6,
   "id": "5869d54d",
   "metadata": {},
   "outputs": [
    {
     "data": {
      "text/plain": [
       "'/Users/nurfatimah.zainuddinkaligo.com/Desktop'"
      ]
     },
     "execution_count": 6,
     "metadata": {},
     "output_type": "execute_result"
    }
   ],
   "source": [
    "pwd"
   ]
  },
  {
   "cell_type": "code",
   "execution_count": 7,
   "id": "b6bd34c7",
   "metadata": {},
   "outputs": [],
   "source": [
    "myfile = open('chrishemsworth.txt')"
   ]
  },
  {
   "cell_type": "code",
   "execution_count": 8,
   "id": "41585282",
   "metadata": {},
   "outputs": [
    {
     "data": {
      "text/plain": [
       "<_io.TextIOWrapper name='chrishemsworth.txt' mode='r' encoding='UTF-8'>"
      ]
     },
     "execution_count": 8,
     "metadata": {},
     "output_type": "execute_result"
    }
   ],
   "source": [
    "myfile"
   ]
  },
  {
   "cell_type": "code",
   "execution_count": 9,
   "id": "cfe6ce71",
   "metadata": {},
   "outputs": [
    {
     "ename": "NameError",
     "evalue": "name 'chrishemsworth' is not defined",
     "output_type": "error",
     "traceback": [
      "\u001b[0;31m---------------------------------------------------------------------------\u001b[0m",
      "\u001b[0;31mNameError\u001b[0m                                 Traceback (most recent call last)",
      "\u001b[0;32m/var/folders/fx/tj_szvc17v38zxm2_vgmsz380000gq/T/ipykernel_4533/1183491676.py\u001b[0m in \u001b[0;36m<module>\u001b[0;34m\u001b[0m\n\u001b[0;32m----> 1\u001b[0;31m \u001b[0mchrishemsworth\u001b[0m\u001b[0;34m.\u001b[0m\u001b[0mtxt\u001b[0m\u001b[0;34m\u001b[0m\u001b[0;34m\u001b[0m\u001b[0m\n\u001b[0m",
      "\u001b[0;31mNameError\u001b[0m: name 'chrishemsworth' is not defined"
     ]
    }
   ],
   "source": [
    "chrishemsworth.txt"
   ]
  },
  {
   "cell_type": "code",
   "execution_count": 10,
   "id": "5d5ac61c",
   "metadata": {},
   "outputs": [
    {
     "data": {
      "text/plain": [
       "'Chris is an actor.\\n'"
      ]
     },
     "execution_count": 10,
     "metadata": {},
     "output_type": "execute_result"
    }
   ],
   "source": [
    "myfile.read()"
   ]
  },
  {
   "cell_type": "code",
   "execution_count": 11,
   "id": "fc533753",
   "metadata": {},
   "outputs": [
    {
     "data": {
      "text/plain": [
       "''"
      ]
     },
     "execution_count": 11,
     "metadata": {},
     "output_type": "execute_result"
    }
   ],
   "source": [
    "myfile.read()"
   ]
  },
  {
   "cell_type": "code",
   "execution_count": 12,
   "id": "e3d49f8b",
   "metadata": {},
   "outputs": [
    {
     "data": {
      "text/plain": [
       "0"
      ]
     },
     "execution_count": 12,
     "metadata": {},
     "output_type": "execute_result"
    }
   ],
   "source": [
    "myfile.seek(0)"
   ]
  },
  {
   "cell_type": "code",
   "execution_count": 13,
   "id": "a2b928a7",
   "metadata": {},
   "outputs": [
    {
     "data": {
      "text/plain": [
       "'Chris is an actor.\\n'"
      ]
     },
     "execution_count": 13,
     "metadata": {},
     "output_type": "execute_result"
    }
   ],
   "source": [
    "myfile.read()"
   ]
  },
  {
   "cell_type": "code",
   "execution_count": 15,
   "id": "941a7844",
   "metadata": {},
   "outputs": [],
   "source": [
    "#close the file\n",
    "myfile.close()"
   ]
  },
  {
   "cell_type": "code",
   "execution_count": 19,
   "id": "396e23c0",
   "metadata": {},
   "outputs": [],
   "source": [
    "## WRITING TO A FILE \n",
    "# Add a second argument to the function, 'w' which stands for write.\n",
    "# Passing 'w+' lets us read and write to the file\n",
    "myfile = open('chrishemsworth.txt', 'w+')"
   ]
  },
  {
   "cell_type": "code",
   "execution_count": 20,
   "id": "45ecee8b",
   "metadata": {},
   "outputs": [
    {
     "data": {
      "text/plain": [
       "26"
      ]
     },
     "execution_count": 20,
     "metadata": {},
     "output_type": "execute_result"
    }
   ],
   "source": [
    "myfile.write('He is an Australian actor.')"
   ]
  },
  {
   "cell_type": "code",
   "execution_count": 22,
   "id": "d0fc8ab9",
   "metadata": {},
   "outputs": [
    {
     "data": {
      "text/plain": [
       "'He is an Australian actor.'"
      ]
     },
     "execution_count": 22,
     "metadata": {},
     "output_type": "execute_result"
    }
   ],
   "source": [
    "## Read the file\n",
    "myfile.seek(0)\n",
    "myfile.read()"
   ]
  },
  {
   "cell_type": "code",
   "execution_count": 23,
   "id": "6b0fe4a7",
   "metadata": {},
   "outputs": [],
   "source": [
    "myfile.close()"
   ]
  },
  {
   "cell_type": "code",
   "execution_count": 28,
   "id": "7bfb7f26",
   "metadata": {},
   "outputs": [
    {
     "data": {
      "text/plain": [
       "12"
      ]
     },
     "execution_count": 28,
     "metadata": {},
     "output_type": "execute_result"
    }
   ],
   "source": [
    "## APPENDING TO A FILE\n",
    "myfile = open('chrishemsworth.txt','a+')\n",
    "myfile.write('\\nHe was Thor.')\n",
    "myfile.write('\\nHe has kids')"
   ]
  },
  {
   "cell_type": "code",
   "execution_count": 30,
   "id": "d0c4560d",
   "metadata": {},
   "outputs": [
    {
     "name": "stdout",
     "output_type": "stream",
     "text": [
      "He is an Australian actor.\n",
      "He was Thor.\n",
      "He was Thor.\n",
      "He was Thor.\n",
      "He has kids\n"
     ]
    }
   ],
   "source": [
    "myfile.seek(0)\n",
    "print(myfile.read())"
   ]
  },
  {
   "cell_type": "code",
   "execution_count": 17,
   "id": "b0a3ced8",
   "metadata": {},
   "outputs": [
    {
     "name": "stdout",
     "output_type": "stream",
     "text": [
      "Overwriting chrishemsworth.txt\n"
     ]
    }
   ],
   "source": [
    "%%writefile chrishemsworth.txt\n",
    "Chris is an Australian hunk."
   ]
  },
  {
   "cell_type": "code",
   "execution_count": 18,
   "id": "4db02fc8",
   "metadata": {},
   "outputs": [
    {
     "ename": "FileNotFoundError",
     "evalue": "[Errno 2] No such file or directory: 'chrishemsworths.txt'",
     "output_type": "error",
     "traceback": [
      "\u001b[0;31m---------------------------------------------------------------------------\u001b[0m",
      "\u001b[0;31mFileNotFoundError\u001b[0m                         Traceback (most recent call last)",
      "\u001b[0;32m/var/folders/fx/tj_szvc17v38zxm2_vgmsz380000gq/T/ipykernel_4831/964191813.py\u001b[0m in \u001b[0;36m<module>\u001b[0;34m\u001b[0m\n\u001b[0;32m----> 1\u001b[0;31m \u001b[0mmyfile\u001b[0m \u001b[0;34m=\u001b[0m \u001b[0mopen\u001b[0m\u001b[0;34m(\u001b[0m\u001b[0;34m'chrishemsworths.txt'\u001b[0m\u001b[0;34m)\u001b[0m\u001b[0;34m\u001b[0m\u001b[0;34m\u001b[0m\u001b[0m\n\u001b[0m",
      "\u001b[0;31mFileNotFoundError\u001b[0m: [Errno 2] No such file or directory: 'chrishemsworths.txt'"
     ]
    }
   ],
   "source": [
    "myfile = open('chrishemsworths.txt')"
   ]
  },
  {
   "cell_type": "code",
   "execution_count": 19,
   "id": "159fcfb3",
   "metadata": {},
   "outputs": [
    {
     "data": {
      "text/plain": [
       "'Chris is an Australian hunk.\\n'"
      ]
     },
     "execution_count": 19,
     "metadata": {},
     "output_type": "execute_result"
    }
   ],
   "source": [
    "myfile.read()"
   ]
  },
  {
   "cell_type": "code",
   "execution_count": 20,
   "id": "02ed00c7",
   "metadata": {},
   "outputs": [
    {
     "data": {
      "text/plain": [
       "''"
      ]
     },
     "execution_count": 20,
     "metadata": {},
     "output_type": "execute_result"
    }
   ],
   "source": [
    "myfile.read()"
   ]
  },
  {
   "cell_type": "code",
   "execution_count": 21,
   "id": "8d6f6eb6",
   "metadata": {},
   "outputs": [
    {
     "data": {
      "text/plain": [
       "0"
      ]
     },
     "execution_count": 21,
     "metadata": {},
     "output_type": "execute_result"
    }
   ],
   "source": [
    "myfile.seek(0)"
   ]
  },
  {
   "cell_type": "code",
   "execution_count": 22,
   "id": "29770d30",
   "metadata": {},
   "outputs": [
    {
     "data": {
      "text/plain": [
       "'Chris is an Australian hunk.\\n'"
      ]
     },
     "execution_count": 22,
     "metadata": {},
     "output_type": "execute_result"
    }
   ],
   "source": [
    "myfile.read()"
   ]
  },
  {
   "cell_type": "code",
   "execution_count": 23,
   "id": "b183ffe6",
   "metadata": {},
   "outputs": [],
   "source": [
    "myfile.close()"
   ]
  },
  {
   "cell_type": "code",
   "execution_count": 24,
   "id": "b95ec437",
   "metadata": {},
   "outputs": [],
   "source": [
    "myfile = open('chrishemsworth.txt','w+')"
   ]
  },
  {
   "cell_type": "code",
   "execution_count": 25,
   "id": "82bc059d",
   "metadata": {},
   "outputs": [
    {
     "data": {
      "text/plain": [
       "<_io.TextIOWrapper name='chrishemsworth.txt' mode='w+' encoding='UTF-8'>"
      ]
     },
     "execution_count": 25,
     "metadata": {},
     "output_type": "execute_result"
    }
   ],
   "source": [
    "myfile"
   ]
  },
  {
   "cell_type": "code",
   "execution_count": 26,
   "id": "f5bc8bf0",
   "metadata": {},
   "outputs": [
    {
     "ename": "NameError",
     "evalue": "name 'chrishemsworth' is not defined",
     "output_type": "error",
     "traceback": [
      "\u001b[0;31m---------------------------------------------------------------------------\u001b[0m",
      "\u001b[0;31mNameError\u001b[0m                                 Traceback (most recent call last)",
      "\u001b[0;32m/var/folders/fx/tj_szvc17v38zxm2_vgmsz380000gq/T/ipykernel_4831/1183491676.py\u001b[0m in \u001b[0;36m<module>\u001b[0;34m\u001b[0m\n\u001b[0;32m----> 1\u001b[0;31m \u001b[0mchrishemsworth\u001b[0m\u001b[0;34m.\u001b[0m\u001b[0mtxt\u001b[0m\u001b[0;34m\u001b[0m\u001b[0;34m\u001b[0m\u001b[0m\n\u001b[0m",
      "\u001b[0;31mNameError\u001b[0m: name 'chrishemsworth' is not defined"
     ]
    }
   ],
   "source": [
    "chrishemsworth.txt"
   ]
  },
  {
   "cell_type": "code",
   "execution_count": 27,
   "id": "b7f11c18",
   "metadata": {},
   "outputs": [
    {
     "data": {
      "text/plain": [
       "24"
      ]
     },
     "execution_count": 27,
     "metadata": {},
     "output_type": "execute_result"
    }
   ],
   "source": [
    "# Write to the file\n",
    "myfile.write('Chris is from Wollongong')"
   ]
  },
  {
   "cell_type": "code",
   "execution_count": 29,
   "id": "b1a17701",
   "metadata": {},
   "outputs": [
    {
     "data": {
      "text/plain": [
       "'Chris is from Wollongong'"
      ]
     },
     "execution_count": 29,
     "metadata": {},
     "output_type": "execute_result"
    }
   ],
   "source": [
    "# Read the file\n",
    "myfile.seek(0)\n",
    "myfile.read()"
   ]
  },
  {
   "cell_type": "code",
   "execution_count": 30,
   "id": "6cec0c0b",
   "metadata": {},
   "outputs": [],
   "source": [
    "myfile.close()"
   ]
  },
  {
   "cell_type": "code",
   "execution_count": 1,
   "id": "d223b394",
   "metadata": {},
   "outputs": [
    {
     "ename": "SyntaxError",
     "evalue": "invalid syntax (2393131597.py, line 4)",
     "output_type": "error",
     "traceback": [
      "\u001b[0;36m  File \u001b[0;32m\"/var/folders/fx/tj_szvc17v38zxm2_vgmsz380000gq/T/ipykernel_5049/2393131597.py\"\u001b[0;36m, line \u001b[0;32m4\u001b[0m\n\u001b[0;31m    Jana is his wife\u001b[0m\n\u001b[0m                ^\u001b[0m\n\u001b[0;31mSyntaxError\u001b[0m\u001b[0;31m:\u001b[0m invalid syntax\n"
     ]
    }
   ],
   "source": [
    "# Appending with %%writefile\n",
    "%%writefile -a chrishemsworth.txt\n",
    "\n",
    "Jana is his wife\n",
    "Luke is his son"
   ]
  },
  {
   "cell_type": "code",
   "execution_count": 2,
   "id": "1817d1f6",
   "metadata": {},
   "outputs": [
    {
     "name": "stdout",
     "output_type": "stream",
     "text": [
      "Overwriting chrishemsworth.txt\n"
     ]
    }
   ],
   "source": [
    "%%writefile chrishemsworth.txt\n",
    "Jana is his wife.\n",
    "Luke is his son."
   ]
  },
  {
   "cell_type": "code",
   "execution_count": 3,
   "id": "2a17b0a4",
   "metadata": {},
   "outputs": [
    {
     "name": "stdout",
     "output_type": "stream",
     "text": [
      "Jana is his wife.\n",
      "\n",
      "Luke is his son.\n",
      "\n"
     ]
    }
   ],
   "source": [
    "for line in open('chrishemsworth.txt'):\n",
    "    print(line)"
   ]
  },
  {
   "cell_type": "code",
   "execution_count": null,
   "id": "ae753d16",
   "metadata": {},
   "outputs": [],
   "source": []
  }
 ],
 "metadata": {
  "kernelspec": {
   "display_name": "Python 3 (ipykernel)",
   "language": "python",
   "name": "python3"
  },
  "language_info": {
   "codemirror_mode": {
    "name": "ipython",
    "version": 3
   },
   "file_extension": ".py",
   "mimetype": "text/x-python",
   "name": "python",
   "nbconvert_exporter": "python",
   "pygments_lexer": "ipython3",
   "version": "3.9.7"
  }
 },
 "nbformat": 4,
 "nbformat_minor": 5
}

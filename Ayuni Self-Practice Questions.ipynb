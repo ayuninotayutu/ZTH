{
 "cells": [
  {
   "cell_type": "code",
   "execution_count": 6,
   "id": "0206aafd",
   "metadata": {},
   "outputs": [
    {
     "ename": "SyntaxError",
     "evalue": "invalid syntax (2333079775.py, line 3)",
     "output_type": "error",
     "traceback": [
      "\u001b[0;36m  File \u001b[0;32m\"/var/folders/fx/tj_szvc17v38zxm2_vgmsz380000gq/T/ipykernel_21172/2333079775.py\"\u001b[0;36m, line \u001b[0;32m3\u001b[0m\n\u001b[0;31m    Andrea loves spaghetti.\u001b[0m\n\u001b[0m           ^\u001b[0m\n\u001b[0;31mSyntaxError\u001b[0m\u001b[0;31m:\u001b[0m invalid syntax\n"
     ]
    }
   ],
   "source": [
    "## Ayuni, write a file\n",
    "%%writefile andreaverolino.txt\n",
    "Andrea loves spaghetti."
   ]
  },
  {
   "cell_type": "code",
   "execution_count": 7,
   "id": "706aa36e",
   "metadata": {},
   "outputs": [
    {
     "name": "stdout",
     "output_type": "stream",
     "text": [
      "Writing andreaverolino.txt\n"
     ]
    }
   ],
   "source": [
    "%%writefile andreaverolino.txt\n",
    "Andrea loves spaghetti."
   ]
  },
  {
   "cell_type": "code",
   "execution_count": 13,
   "id": "7cdb32ee",
   "metadata": {},
   "outputs": [],
   "source": [
    "## Now, open that file\n",
    "myfile = open('andreaverolino.txt')"
   ]
  },
  {
   "cell_type": "code",
   "execution_count": 16,
   "id": "8acb03d9",
   "metadata": {},
   "outputs": [
    {
     "data": {
      "text/plain": [
       "'Andrea loves spaghetti.\\n'"
      ]
     },
     "execution_count": 16,
     "metadata": {},
     "output_type": "execute_result"
    }
   ],
   "source": [
    "# Try and read that file again\n",
    "myfile.read()"
   ]
  },
  {
   "cell_type": "code",
   "execution_count": 17,
   "id": "4247d7dc",
   "metadata": {},
   "outputs": [
    {
     "data": {
      "text/plain": [
       "''"
      ]
     },
     "execution_count": 17,
     "metadata": {},
     "output_type": "execute_result"
    }
   ],
   "source": [
    "myfile.read()"
   ]
  },
  {
   "cell_type": "code",
   "execution_count": 19,
   "id": "61f8d98b",
   "metadata": {},
   "outputs": [
    {
     "data": {
      "text/plain": [
       "0"
      ]
     },
     "execution_count": 19,
     "metadata": {},
     "output_type": "execute_result"
    }
   ],
   "source": [
    "# Seek the file again\n",
    "myfile.seek(0)"
   ]
  },
  {
   "cell_type": "code",
   "execution_count": 20,
   "id": "ec113776",
   "metadata": {},
   "outputs": [
    {
     "data": {
      "text/plain": [
       "'Andrea loves spaghetti.\\n'"
      ]
     },
     "execution_count": 20,
     "metadata": {},
     "output_type": "execute_result"
    }
   ],
   "source": [
    "myfile.read()"
   ]
  },
  {
   "cell_type": "code",
   "execution_count": 22,
   "id": "c3605a47",
   "metadata": {},
   "outputs": [],
   "source": [
    "# Close the file \n",
    "myfile.close()"
   ]
  },
  {
   "cell_type": "code",
   "execution_count": 31,
   "id": "c642dfcd",
   "metadata": {},
   "outputs": [],
   "source": [
    "# Open the file and add new line\n",
    "myfile = open('andreaverolino.txt','w+')"
   ]
  },
  {
   "cell_type": "code",
   "execution_count": 33,
   "id": "5c0c1aa8",
   "metadata": {},
   "outputs": [
    {
     "data": {
      "text/plain": [
       "26"
      ]
     },
     "execution_count": 33,
     "metadata": {},
     "output_type": "execute_result"
    }
   ],
   "source": [
    "myfile.write('Andrea loves elegant women')"
   ]
  },
  {
   "cell_type": "code",
   "execution_count": 35,
   "id": "bc22e572",
   "metadata": {},
   "outputs": [
    {
     "data": {
      "text/plain": [
       "'Andrea loves elegant women'"
      ]
     },
     "execution_count": 35,
     "metadata": {},
     "output_type": "execute_result"
    }
   ],
   "source": [
    "myfile.seek(0)\n",
    "myfile.read()"
   ]
  },
  {
   "cell_type": "code",
   "execution_count": 36,
   "id": "e5172e52",
   "metadata": {},
   "outputs": [],
   "source": [
    "# Close it\n",
    "myfile.close()"
   ]
  },
  {
   "cell_type": "code",
   "execution_count": 43,
   "id": "dedbbee3",
   "metadata": {},
   "outputs": [
    {
     "data": {
      "text/plain": [
       "50"
      ]
     },
     "execution_count": 43,
     "metadata": {},
     "output_type": "execute_result"
    }
   ],
   "source": [
    "# Append to this file. Write two lines.\n",
    "myfile = open('andreaverolino.txt','a+')\n",
    "myfile.write('\\nAndrea only prioritizes himself')\n",
    "myfile.write(\"\\nAndrea doesn't care about other people's feelings\")"
   ]
  },
  {
   "cell_type": "code",
   "execution_count": 46,
   "id": "83041300",
   "metadata": {},
   "outputs": [
    {
     "name": "stdout",
     "output_type": "stream",
     "text": [
      "Andrea loves elegant womenAndrea only prioritizes himselfAndrea doesn't care about other people's feelings\n",
      "Andrea only prioritizes himself\n",
      "Andrea doesn't care about other people's feelings\n"
     ]
    }
   ],
   "source": [
    "myfile.seek(0)\n",
    "print(myfile.read())"
   ]
  },
  {
   "cell_type": "code",
   "execution_count": 47,
   "id": "0693a740",
   "metadata": {},
   "outputs": [],
   "source": [
    "myfile.close()"
   ]
  },
  {
   "cell_type": "code",
   "execution_count": 2,
   "id": "d9c511b6",
   "metadata": {},
   "outputs": [],
   "source": [
    "# Build the list [0,0,0] two separate ways"
   ]
  },
  {
   "cell_type": "code",
   "execution_count": 48,
   "id": "decaf975",
   "metadata": {},
   "outputs": [],
   "source": [
    "# Method 1:\n",
    "list1 = [0,0,0]"
   ]
  },
  {
   "cell_type": "code",
   "execution_count": 49,
   "id": "ddfc6b40",
   "metadata": {},
   "outputs": [
    {
     "data": {
      "text/plain": [
       "[0, 0, 0]"
      ]
     },
     "execution_count": 49,
     "metadata": {},
     "output_type": "execute_result"
    }
   ],
   "source": [
    "list1"
   ]
  },
  {
   "cell_type": "code",
   "execution_count": 50,
   "id": "b205ed8a",
   "metadata": {},
   "outputs": [
    {
     "data": {
      "text/plain": [
       "[0, 0, 0]"
      ]
     },
     "execution_count": 50,
     "metadata": {},
     "output_type": "execute_result"
    }
   ],
   "source": [
    "# Method 2:\n",
    "[0]*3"
   ]
  },
  {
   "cell_type": "code",
   "execution_count": 52,
   "id": "df0dd40c",
   "metadata": {},
   "outputs": [],
   "source": [
    "##Reassign 'namjoohyuk' in this nested list to say 'chrishemsworth' instead:\n",
    "myfavactors = ['hyunbin','songjoongki',['parkhyungsik',32,'namjoohyuk']] "
   ]
  },
  {
   "cell_type": "code",
   "execution_count": 53,
   "id": "a37e04c9",
   "metadata": {},
   "outputs": [],
   "source": [
    "myfavactors [2][2] = 'chrishemsworth'"
   ]
  },
  {
   "cell_type": "code",
   "execution_count": 54,
   "id": "5591059e",
   "metadata": {},
   "outputs": [
    {
     "data": {
      "text/plain": [
       "['hyunbin', 'songjoongki', ['parkhyungsik', 32, 'chrishemsworth']]"
      ]
     },
     "execution_count": 54,
     "metadata": {},
     "output_type": "execute_result"
    }
   ],
   "source": [
    "myfavactors"
   ]
  },
  {
   "cell_type": "code",
   "execution_count": 4,
   "id": "ff94877a",
   "metadata": {},
   "outputs": [
    {
     "data": {
      "text/plain": [
       "['hyunbin', 'songjoongki', ['parkhyungsik', 32, 'namjoohyuk']]"
      ]
     },
     "execution_count": 4,
     "metadata": {},
     "output_type": "execute_result"
    }
   ],
   "source": [
    "myfavactors"
   ]
  },
  {
   "cell_type": "code",
   "execution_count": 5,
   "id": "43d197ff",
   "metadata": {},
   "outputs": [],
   "source": [
    "myfavactors[2][2] = 'chrishemsworth'"
   ]
  },
  {
   "cell_type": "code",
   "execution_count": 6,
   "id": "d4c34269",
   "metadata": {},
   "outputs": [
    {
     "data": {
      "text/plain": [
       "['hyunbin', 'songjoongki', ['parkhyungsik', 32, 'chrishemsworth']]"
      ]
     },
     "execution_count": 6,
     "metadata": {},
     "output_type": "execute_result"
    }
   ],
   "source": [
    "myfavactors"
   ]
  },
  {
   "cell_type": "code",
   "execution_count": 9,
   "id": "7593bd47",
   "metadata": {},
   "outputs": [],
   "source": [
    "## Write a brief description of all the following Object Types and Data Structures we've learned about:\n",
    "# Numbers : numeric literals. Either integers or floating points. \n",
    "# Strings : to record text information like names. Sequence of letters. \n",
    "# Lists = mutable unlike strings. \n",
    "# Tuples = immutable unlike string. To present things that aren't supposed to change like dates, times in a calendar.\n",
    "# Dictionaries = mapping. not sequence. Mappings are collection of objects that are stored by keys. "
   ]
  },
  {
   "cell_type": "code",
   "execution_count": 56,
   "id": "0c6b218e",
   "metadata": {},
   "outputs": [],
   "source": [
    "# Given the string hello, give two methods of producing the letter 'o' using indexing.\n",
    "# Method 1\n",
    "s = 'hello'"
   ]
  },
  {
   "cell_type": "code",
   "execution_count": 57,
   "id": "ccf05e54",
   "metadata": {},
   "outputs": [
    {
     "data": {
      "text/plain": [
       "'hello'"
      ]
     },
     "execution_count": 57,
     "metadata": {},
     "output_type": "execute_result"
    }
   ],
   "source": [
    "s"
   ]
  },
  {
   "cell_type": "code",
   "execution_count": 58,
   "id": "acaa9142",
   "metadata": {},
   "outputs": [
    {
     "data": {
      "text/plain": [
       "'o'"
      ]
     },
     "execution_count": 58,
     "metadata": {},
     "output_type": "execute_result"
    }
   ],
   "source": [
    "s[4]"
   ]
  },
  {
   "cell_type": "code",
   "execution_count": 59,
   "id": "ac0cfc6b",
   "metadata": {},
   "outputs": [
    {
     "data": {
      "text/plain": [
       "'o'"
      ]
     },
     "execution_count": 59,
     "metadata": {},
     "output_type": "execute_result"
    }
   ],
   "source": [
    "# Method 2\n",
    "s[-1]"
   ]
  },
  {
   "cell_type": "code",
   "execution_count": 3,
   "id": "5b7ec048",
   "metadata": {},
   "outputs": [],
   "source": [
    "# Sort the list below \n",
    "colleagues = ['dylan', 'karl', 'jayden', 'izza', 'pia', 'shahid']"
   ]
  },
  {
   "cell_type": "code",
   "execution_count": 4,
   "id": "3aa9df74",
   "metadata": {},
   "outputs": [
    {
     "data": {
      "text/plain": [
       "['dylan', 'karl', 'jayden', 'izza', 'pia', 'shahid']"
      ]
     },
     "execution_count": 4,
     "metadata": {},
     "output_type": "execute_result"
    }
   ],
   "source": [
    "colleagues"
   ]
  },
  {
   "cell_type": "code",
   "execution_count": 7,
   "id": "6fb74e1a",
   "metadata": {},
   "outputs": [],
   "source": [
    "colleagues.sort()"
   ]
  },
  {
   "cell_type": "code",
   "execution_count": 8,
   "id": "e39ef2e4",
   "metadata": {},
   "outputs": [
    {
     "data": {
      "text/plain": [
       "['dylan', 'izza', 'jayden', 'karl', 'pia', 'shahid']"
      ]
     },
     "execution_count": 8,
     "metadata": {},
     "output_type": "execute_result"
    }
   ],
   "source": [
    "colleagues"
   ]
  },
  {
   "cell_type": "code",
   "execution_count": 19,
   "id": "3614b481",
   "metadata": {},
   "outputs": [],
   "source": [
    "## DICTIONARIES"
   ]
  },
  {
   "cell_type": "code",
   "execution_count": 21,
   "id": "15dcd205",
   "metadata": {},
   "outputs": [],
   "source": [
    "# How many children do you have?\n",
    "mychildren = 3"
   ]
  },
  {
   "cell_type": "code",
   "execution_count": 22,
   "id": "ec6a293e",
   "metadata": {},
   "outputs": [
    {
     "data": {
      "text/plain": [
       "3"
      ]
     },
     "execution_count": 22,
     "metadata": {},
     "output_type": "execute_result"
    }
   ],
   "source": [
    "mychildren"
   ]
  },
  {
   "cell_type": "code",
   "execution_count": 9,
   "id": "8af8f1a4",
   "metadata": {},
   "outputs": [],
   "source": [
    "# Assign names to your 3 children\n",
    "mychildren = ['marikh','khalil','zeffyr']"
   ]
  },
  {
   "cell_type": "code",
   "execution_count": 10,
   "id": "34b5ee41",
   "metadata": {},
   "outputs": [
    {
     "data": {
      "text/plain": [
       "['marikh', 'khalil', 'zeffyr']"
      ]
     },
     "execution_count": 10,
     "metadata": {},
     "output_type": "execute_result"
    }
   ],
   "source": [
    "mychildren"
   ]
  },
  {
   "cell_type": "code",
   "execution_count": 11,
   "id": "c94ffa4e",
   "metadata": {},
   "outputs": [],
   "source": [
    "# Create a string with 5 words\n",
    "s = 'Ayuni loves watching Tiktok everyday'"
   ]
  },
  {
   "cell_type": "code",
   "execution_count": 12,
   "id": "8eaed7ce",
   "metadata": {},
   "outputs": [
    {
     "data": {
      "text/plain": [
       "'Ayuni loves watching Tiktok everyday'"
      ]
     },
     "execution_count": 12,
     "metadata": {},
     "output_type": "execute_result"
    }
   ],
   "source": [
    "s"
   ]
  },
  {
   "cell_type": "code",
   "execution_count": 14,
   "id": "b189cc5f",
   "metadata": {},
   "outputs": [
    {
     "name": "stdout",
     "output_type": "stream",
     "text": [
      "She loves all the funny shit\n",
      "Because they make her laugh so hard\n"
     ]
    }
   ],
   "source": [
    "# Print 2 lines of strings \n",
    "print('She loves all the funny shit')\n",
    "print('Because they make her laugh so hard')"
   ]
  },
  {
   "cell_type": "code",
   "execution_count": 15,
   "id": "4b3feac1",
   "metadata": {},
   "outputs": [],
   "source": [
    "# Check the length of this string (\"What you won't do, do for love\")\n",
    "s = (\"What you won't do, do for love\")"
   ]
  },
  {
   "cell_type": "code",
   "execution_count": 16,
   "id": "287261fd",
   "metadata": {},
   "outputs": [
    {
     "data": {
      "text/plain": [
       "\"What you won't do, do for love\""
      ]
     },
     "execution_count": 16,
     "metadata": {},
     "output_type": "execute_result"
    }
   ],
   "source": [
    "s"
   ]
  },
  {
   "cell_type": "code",
   "execution_count": 18,
   "id": "8735143e",
   "metadata": {},
   "outputs": [
    {
     "data": {
      "text/plain": [
       "30"
      ]
     },
     "execution_count": 18,
     "metadata": {},
     "output_type": "execute_result"
    }
   ],
   "source": [
    "len(s)"
   ]
  },
  {
   "cell_type": "code",
   "execution_count": 19,
   "id": "8ec6e84f",
   "metadata": {},
   "outputs": [
    {
     "data": {
      "text/plain": [
       "\"What you won't do, do for love\""
      ]
     },
     "execution_count": 19,
     "metadata": {},
     "output_type": "execute_result"
    }
   ],
   "source": [
    "# Assign s as a string to \"What you don't do, do for love\"\n",
    "s"
   ]
  },
  {
   "cell_type": "code",
   "execution_count": 20,
   "id": "8a0633b1",
   "metadata": {},
   "outputs": [
    {
     "name": "stdout",
     "output_type": "stream",
     "text": [
      "What you wont' do, do for love\n"
     ]
    }
   ],
   "source": [
    "# Print the object\n",
    "print(\"What you wont' do, do for love\")"
   ]
  },
  {
   "cell_type": "code",
   "execution_count": 21,
   "id": "6f901d2d",
   "metadata": {},
   "outputs": [
    {
     "data": {
      "text/plain": [
       "'W'"
      ]
     },
     "execution_count": 21,
     "metadata": {},
     "output_type": "execute_result"
    }
   ],
   "source": [
    "# # Show first element (in this case a letter)\n",
    "s[0]"
   ]
  },
  {
   "cell_type": "code",
   "execution_count": 22,
   "id": "72308e14",
   "metadata": {},
   "outputs": [
    {
     "data": {
      "text/plain": [
       "'y'"
      ]
     },
     "execution_count": 22,
     "metadata": {},
     "output_type": "execute_result"
    }
   ],
   "source": [
    "# Show 5th element\n",
    "s[5]"
   ]
  },
  {
   "cell_type": "code",
   "execution_count": 23,
   "id": "36dac767",
   "metadata": {},
   "outputs": [
    {
     "data": {
      "text/plain": [
       "\"hat you won't do, do for love\""
      ]
     },
     "execution_count": 23,
     "metadata": {},
     "output_type": "execute_result"
    }
   ],
   "source": [
    "# # Grab everything past the first term all the way to the length of s which is len(s)\n",
    "s[1::]"
   ]
  },
  {
   "cell_type": "code",
   "execution_count": 26,
   "id": "2997ecbb",
   "metadata": {},
   "outputs": [
    {
     "data": {
      "text/plain": [
       "'Wha'"
      ]
     },
     "execution_count": 26,
     "metadata": {},
     "output_type": "execute_result"
    }
   ],
   "source": [
    "# Grab everything UP TO the 3rd index\n",
    "s[:3]"
   ]
  },
  {
   "cell_type": "code",
   "execution_count": 27,
   "id": "18afe3eb",
   "metadata": {},
   "outputs": [
    {
     "data": {
      "text/plain": [
       "'What you '"
      ]
     },
     "execution_count": 27,
     "metadata": {},
     "output_type": "execute_result"
    }
   ],
   "source": [
    "# Grab everything UP TO the 9th index\n",
    "s[:9]"
   ]
  },
  {
   "cell_type": "code",
   "execution_count": 28,
   "id": "5d061ba3",
   "metadata": {},
   "outputs": [
    {
     "data": {
      "text/plain": [
       "\"What you won't do, do for love\""
      ]
     },
     "execution_count": 28,
     "metadata": {},
     "output_type": "execute_result"
    }
   ],
   "source": [
    "# Grab everything\n",
    "s[:]"
   ]
  },
  {
   "cell_type": "code",
   "execution_count": 29,
   "id": "0cfd725b",
   "metadata": {},
   "outputs": [
    {
     "data": {
      "text/plain": [
       "'e'"
      ]
     },
     "execution_count": 29,
     "metadata": {},
     "output_type": "execute_result"
    }
   ],
   "source": [
    "# Grab last letter with negative indexing\n",
    "s[-1]"
   ]
  },
  {
   "cell_type": "code",
   "execution_count": 30,
   "id": "421636ff",
   "metadata": {},
   "outputs": [
    {
     "data": {
      "text/plain": [
       "\"What you won't do, do for lov\""
      ]
     },
     "execution_count": 30,
     "metadata": {},
     "output_type": "execute_result"
    }
   ],
   "source": [
    "# Grab everything but the last letter\n",
    "s[:-1]\n"
   ]
  },
  {
   "cell_type": "code",
   "execution_count": 31,
   "id": "febb7ba2",
   "metadata": {},
   "outputs": [
    {
     "data": {
      "text/plain": [
       "\"What you won't do, do for love\""
      ]
     },
     "execution_count": 31,
     "metadata": {},
     "output_type": "execute_result"
    }
   ],
   "source": [
    "# Grab everything, but go in steps size of 1\n",
    "s[::1]\n"
   ]
  },
  {
   "cell_type": "code",
   "execution_count": 32,
   "id": "13aa5025",
   "metadata": {},
   "outputs": [
    {
     "data": {
      "text/plain": [
       "\"Wa o o' o ofrlv\""
      ]
     },
     "execution_count": 32,
     "metadata": {},
     "output_type": "execute_result"
    }
   ],
   "source": [
    "# Grab everything, but go in steps size of 2\n",
    "s[::2]"
   ]
  },
  {
   "cell_type": "code",
   "execution_count": 34,
   "id": "866ac79f",
   "metadata": {},
   "outputs": [
    {
     "data": {
      "text/plain": [
       "\"evol rof od ,od t'now uoy tahW\""
      ]
     },
     "execution_count": 34,
     "metadata": {},
     "output_type": "execute_result"
    }
   ],
   "source": [
    "# Print string backwards\n",
    "s[::-1]"
   ]
  },
  {
   "cell_type": "code",
   "execution_count": 36,
   "id": "b7fd8432",
   "metadata": {},
   "outputs": [
    {
     "data": {
      "text/plain": [
       "\"What you won't do, do for love\""
      ]
     },
     "execution_count": 36,
     "metadata": {},
     "output_type": "execute_result"
    }
   ],
   "source": [
    "# Print s again\n",
    "s"
   ]
  },
  {
   "cell_type": "code",
   "execution_count": 37,
   "id": "21056965",
   "metadata": {},
   "outputs": [
    {
     "ename": "NameError",
     "evalue": "name 'x' is not defined",
     "output_type": "error",
     "traceback": [
      "\u001b[0;31m---------------------------------------------------------------------------\u001b[0m",
      "\u001b[0;31mNameError\u001b[0m                                 Traceback (most recent call last)",
      "\u001b[0;32m/var/folders/fx/tj_szvc17v38zxm2_vgmsz380000gq/T/ipykernel_21621/960401361.py\u001b[0m in \u001b[0;36m<module>\u001b[0;34m\u001b[0m\n\u001b[1;32m      1\u001b[0m \u001b[0;31m# # Let's try to change the first letter to 'x'\u001b[0m\u001b[0;34m\u001b[0m\u001b[0;34m\u001b[0m\u001b[0m\n\u001b[0;32m----> 2\u001b[0;31m \u001b[0ms\u001b[0m\u001b[0;34m[\u001b[0m\u001b[0;36m0\u001b[0m\u001b[0;34m]\u001b[0m \u001b[0;34m=\u001b[0m \u001b[0mx\u001b[0m\u001b[0;34m\u001b[0m\u001b[0;34m\u001b[0m\u001b[0m\n\u001b[0m",
      "\u001b[0;31mNameError\u001b[0m: name 'x' is not defined"
     ]
    }
   ],
   "source": [
    "# # Let's try to change the first letter to 'x'\n",
    "s[0] = x"
   ]
  },
  {
   "cell_type": "code",
   "execution_count": 39,
   "id": "64c16fff",
   "metadata": {},
   "outputs": [
    {
     "data": {
      "text/plain": [
       "\"What you won't do, do for love. You tried everything, but you don't give up\""
      ]
     },
     "execution_count": 39,
     "metadata": {},
     "output_type": "execute_result"
    }
   ],
   "source": [
    "# Add \"'You tried everything, but you don't give up\" to s.\n",
    "s + \". You tried everything, but you don't give up\""
   ]
  },
  {
   "cell_type": "code",
   "execution_count": 42,
   "id": "6247bfd6",
   "metadata": {},
   "outputs": [],
   "source": [
    "# Reassign s completely with the concatenated string.\n",
    "s = s + \". You tried everything, but you don't give up\""
   ]
  },
  {
   "cell_type": "code",
   "execution_count": 43,
   "id": "bb136c5c",
   "metadata": {},
   "outputs": [
    {
     "data": {
      "text/plain": [
       "\"What you won't do, do for love. You tried everything, but you don't give up\""
      ]
     },
     "execution_count": 43,
     "metadata": {},
     "output_type": "execute_result"
    }
   ],
   "source": [
    "# Now print it\n",
    "s"
   ]
  },
  {
   "cell_type": "code",
   "execution_count": 44,
   "id": "36a32328",
   "metadata": {},
   "outputs": [
    {
     "data": {
      "text/plain": [
       "\"WHAT YOU WON'T DO, DO FOR LOVE. YOU TRIED EVERYTHING, BUT YOU DON'T GIVE UP\""
      ]
     },
     "execution_count": 44,
     "metadata": {},
     "output_type": "execute_result"
    }
   ],
   "source": [
    "# Upper case a string\n",
    "s.upper()"
   ]
  },
  {
   "cell_type": "code",
   "execution_count": 45,
   "id": "87c8a187",
   "metadata": {},
   "outputs": [
    {
     "data": {
      "text/plain": [
       "\"what you won't do, do for love. you tried everything, but you don't give up\""
      ]
     },
     "execution_count": 45,
     "metadata": {},
     "output_type": "execute_result"
    }
   ],
   "source": [
    "# Lower case a string\n",
    "s.lower()"
   ]
  },
  {
   "cell_type": "code",
   "execution_count": 46,
   "id": "1a7d68b8",
   "metadata": {},
   "outputs": [
    {
     "data": {
      "text/plain": [
       "['What',\n",
       " 'you',\n",
       " \"won't\",\n",
       " 'do,',\n",
       " 'do',\n",
       " 'for',\n",
       " 'love.',\n",
       " 'You',\n",
       " 'tried',\n",
       " 'everything,',\n",
       " 'but',\n",
       " 'you',\n",
       " \"don't\",\n",
       " 'give',\n",
       " 'up']"
      ]
     },
     "execution_count": 46,
     "metadata": {},
     "output_type": "execute_result"
    }
   ],
   "source": [
    "# Split a string\n",
    "s.split()"
   ]
  },
  {
   "cell_type": "code",
   "execution_count": 51,
   "id": "e6f1c932",
   "metadata": {},
   "outputs": [
    {
     "data": {
      "text/plain": [
       "['What y',\n",
       " 'u w',\n",
       " \"n't d\",\n",
       " ', d',\n",
       " ' f',\n",
       " 'r l',\n",
       " 've. Y',\n",
       " 'u tried everything, but y',\n",
       " 'u d',\n",
       " \"n't give up\"]"
      ]
     },
     "execution_count": 51,
     "metadata": {},
     "output_type": "execute_result"
    }
   ],
   "source": [
    "# Split by a specific element. Eliminate 'o'\n",
    "s.split('o')"
   ]
  },
  {
   "cell_type": "code",
   "execution_count": 9,
   "id": "8e03eb30",
   "metadata": {},
   "outputs": [],
   "source": [
    "# Make a dictionary with {} and : to signify a key and a value\n",
    "mydictionary = {'key1:value1','key2:value2'}"
   ]
  },
  {
   "cell_type": "code",
   "execution_count": 13,
   "id": "62a2fdf8",
   "metadata": {},
   "outputs": [
    {
     "data": {
      "text/plain": [
       "{'key1:value1', 'key2:value2'}"
      ]
     },
     "execution_count": 13,
     "metadata": {},
     "output_type": "execute_result"
    }
   ],
   "source": [
    "mydictionary"
   ]
  },
  {
   "cell_type": "code",
   "execution_count": 15,
   "id": "d64cb46a",
   "metadata": {},
   "outputs": [
    {
     "ename": "TypeError",
     "evalue": "'set' object is not subscriptable",
     "output_type": "error",
     "traceback": [
      "\u001b[0;31m---------------------------------------------------------------------------\u001b[0m",
      "\u001b[0;31mTypeError\u001b[0m                                 Traceback (most recent call last)",
      "\u001b[0;32m/var/folders/fx/tj_szvc17v38zxm2_vgmsz380000gq/T/ipykernel_27209/3657705507.py\u001b[0m in \u001b[0;36m<module>\u001b[0;34m\u001b[0m\n\u001b[1;32m      1\u001b[0m \u001b[0;31m#Call values by their key\u001b[0m\u001b[0;34m\u001b[0m\u001b[0;34m\u001b[0m\u001b[0m\n\u001b[0;32m----> 2\u001b[0;31m \u001b[0mmydictionary\u001b[0m\u001b[0;34m[\u001b[0m\u001b[0;34m'key1'\u001b[0m\u001b[0;34m]\u001b[0m\u001b[0;34m\u001b[0m\u001b[0;34m\u001b[0m\u001b[0m\n\u001b[0m",
      "\u001b[0;31mTypeError\u001b[0m: 'set' object is not subscriptable"
     ]
    }
   ],
   "source": [
    "#Call values by their key\n",
    "mydictionary['key1']"
   ]
  },
  {
   "cell_type": "code",
   "execution_count": 7,
   "id": "876c5a71",
   "metadata": {},
   "outputs": [
    {
     "ename": "NameError",
     "evalue": "name 'mydictionary' is not defined",
     "output_type": "error",
     "traceback": [
      "\u001b[0;31m---------------------------------------------------------------------------\u001b[0m",
      "\u001b[0;31mNameError\u001b[0m                                 Traceback (most recent call last)",
      "\u001b[0;32m/var/folders/fx/tj_szvc17v38zxm2_vgmsz380000gq/T/ipykernel_27209/492901569.py\u001b[0m in \u001b[0;36m<module>\u001b[0;34m\u001b[0m\n\u001b[0;32m----> 1\u001b[0;31m \u001b[0mmydictionary\u001b[0m\u001b[0;34m\u001b[0m\u001b[0;34m\u001b[0m\u001b[0m\n\u001b[0m",
      "\u001b[0;31mNameError\u001b[0m: name 'mydictionary' is not defined"
     ]
    }
   ],
   "source": [
    "mydictionary"
   ]
  },
  {
   "cell_type": "code",
   "execution_count": 16,
   "id": "c115629b",
   "metadata": {},
   "outputs": [
    {
     "data": {
      "text/plain": [
       "{'key1:value1', 'key2:value2'}"
      ]
     },
     "execution_count": 16,
     "metadata": {},
     "output_type": "execute_result"
    }
   ],
   "source": [
    "mydictionary"
   ]
  },
  {
   "cell_type": "code",
   "execution_count": 17,
   "id": "0a74c9b4",
   "metadata": {},
   "outputs": [
    {
     "ename": "TypeError",
     "evalue": "'set' object is not subscriptable",
     "output_type": "error",
     "traceback": [
      "\u001b[0;31m---------------------------------------------------------------------------\u001b[0m",
      "\u001b[0;31mTypeError\u001b[0m                                 Traceback (most recent call last)",
      "\u001b[0;32m/var/folders/fx/tj_szvc17v38zxm2_vgmsz380000gq/T/ipykernel_27209/90116076.py\u001b[0m in \u001b[0;36m<module>\u001b[0;34m\u001b[0m\n\u001b[0;32m----> 1\u001b[0;31m \u001b[0mmydictionary\u001b[0m\u001b[0;34m[\u001b[0m\u001b[0;34m'key2'\u001b[0m\u001b[0;34m]\u001b[0m\u001b[0;34m\u001b[0m\u001b[0;34m\u001b[0m\u001b[0m\n\u001b[0m",
      "\u001b[0;31mTypeError\u001b[0m: 'set' object is not subscriptable"
     ]
    }
   ],
   "source": [
    "mydictionary['key2']"
   ]
  },
  {
   "cell_type": "code",
   "execution_count": 18,
   "id": "c39e7976",
   "metadata": {},
   "outputs": [],
   "source": [
    "mydictionary = {'key1:value1','key2:value2'}"
   ]
  },
  {
   "cell_type": "code",
   "execution_count": 19,
   "id": "f51b2c83",
   "metadata": {},
   "outputs": [
    {
     "data": {
      "text/plain": [
       "{'key1:value1', 'key2:value2'}"
      ]
     },
     "execution_count": 19,
     "metadata": {},
     "output_type": "execute_result"
    }
   ],
   "source": [
    "mydictionary"
   ]
  },
  {
   "cell_type": "code",
   "execution_count": 20,
   "id": "c0594be3",
   "metadata": {},
   "outputs": [
    {
     "ename": "TypeError",
     "evalue": "'set' object is not subscriptable",
     "output_type": "error",
     "traceback": [
      "\u001b[0;31m---------------------------------------------------------------------------\u001b[0m",
      "\u001b[0;31mTypeError\u001b[0m                                 Traceback (most recent call last)",
      "\u001b[0;32m/var/folders/fx/tj_szvc17v38zxm2_vgmsz380000gq/T/ipykernel_27209/90116076.py\u001b[0m in \u001b[0;36m<module>\u001b[0;34m\u001b[0m\n\u001b[0;32m----> 1\u001b[0;31m \u001b[0mmydictionary\u001b[0m\u001b[0;34m[\u001b[0m\u001b[0;34m'key2'\u001b[0m\u001b[0;34m]\u001b[0m\u001b[0;34m\u001b[0m\u001b[0;34m\u001b[0m\u001b[0m\n\u001b[0m",
      "\u001b[0;31mTypeError\u001b[0m: 'set' object is not subscriptable"
     ]
    }
   ],
   "source": [
    "mydictionary['key2']"
   ]
  },
  {
   "cell_type": "code",
   "execution_count": 1,
   "id": "10164b0f",
   "metadata": {},
   "outputs": [],
   "source": [
    "mydictionary = {'key1:value1','key2:value2'}"
   ]
  },
  {
   "cell_type": "code",
   "execution_count": 2,
   "id": "747acbbf",
   "metadata": {},
   "outputs": [
    {
     "data": {
      "text/plain": [
       "{'key1:value1', 'key2:value2'}"
      ]
     },
     "execution_count": 2,
     "metadata": {},
     "output_type": "execute_result"
    }
   ],
   "source": [
    "mydictionary"
   ]
  },
  {
   "cell_type": "code",
   "execution_count": 3,
   "id": "99268d66",
   "metadata": {},
   "outputs": [
    {
     "ename": "TypeError",
     "evalue": "'set' object is not subscriptable",
     "output_type": "error",
     "traceback": [
      "\u001b[0;31m---------------------------------------------------------------------------\u001b[0m",
      "\u001b[0;31mTypeError\u001b[0m                                 Traceback (most recent call last)",
      "\u001b[0;32m/var/folders/fx/tj_szvc17v38zxm2_vgmsz380000gq/T/ipykernel_29597/90116076.py\u001b[0m in \u001b[0;36m<module>\u001b[0;34m\u001b[0m\n\u001b[0;32m----> 1\u001b[0;31m \u001b[0mmydictionary\u001b[0m\u001b[0;34m[\u001b[0m\u001b[0;34m'key2'\u001b[0m\u001b[0;34m]\u001b[0m\u001b[0;34m\u001b[0m\u001b[0;34m\u001b[0m\u001b[0m\n\u001b[0m",
      "\u001b[0;31mTypeError\u001b[0m: 'set' object is not subscriptable"
     ]
    }
   ],
   "source": [
    "mydictionary['key2']"
   ]
  },
  {
   "cell_type": "code",
   "execution_count": 4,
   "id": "f6635a25",
   "metadata": {},
   "outputs": [],
   "source": [
    "mydictionary = {'key1:value1','key2:value2'}"
   ]
  },
  {
   "cell_type": "code",
   "execution_count": 5,
   "id": "caafe0a3",
   "metadata": {},
   "outputs": [],
   "source": [
    "my_dict = {'key1:value1','key2:value2'}"
   ]
  },
  {
   "cell_type": "code",
   "execution_count": 6,
   "id": "2028b04b",
   "metadata": {},
   "outputs": [
    {
     "data": {
      "text/plain": [
       "{'key1:value1', 'key2:value2'}"
      ]
     },
     "execution_count": 6,
     "metadata": {},
     "output_type": "execute_result"
    }
   ],
   "source": [
    "my_dict"
   ]
  },
  {
   "cell_type": "code",
   "execution_count": 8,
   "id": "af358377",
   "metadata": {},
   "outputs": [
    {
     "ename": "TypeError",
     "evalue": "'set' object is not subscriptable",
     "output_type": "error",
     "traceback": [
      "\u001b[0;31m---------------------------------------------------------------------------\u001b[0m",
      "\u001b[0;31mTypeError\u001b[0m                                 Traceback (most recent call last)",
      "\u001b[0;32m/var/folders/fx/tj_szvc17v38zxm2_vgmsz380000gq/T/ipykernel_29597/1478122383.py\u001b[0m in \u001b[0;36m<module>\u001b[0;34m\u001b[0m\n\u001b[0;32m----> 1\u001b[0;31m \u001b[0mmy_dict\u001b[0m\u001b[0;34m[\u001b[0m\u001b[0;34m'key2'\u001b[0m\u001b[0;34m]\u001b[0m\u001b[0;34m\u001b[0m\u001b[0;34m\u001b[0m\u001b[0m\n\u001b[0m",
      "\u001b[0;31mTypeError\u001b[0m: 'set' object is not subscriptable"
     ]
    }
   ],
   "source": [
    "my_dict['key2']"
   ]
  },
  {
   "cell_type": "code",
   "execution_count": 9,
   "id": "60a9cece",
   "metadata": {},
   "outputs": [],
   "source": [
    "mydictionary = {'key1:value1','key2:value2'}"
   ]
  },
  {
   "cell_type": "code",
   "execution_count": 1,
   "id": "5a361954",
   "metadata": {},
   "outputs": [
    {
     "ename": "NameError",
     "evalue": "name 'mydictionary' is not defined",
     "output_type": "error",
     "traceback": [
      "\u001b[0;31m---------------------------------------------------------------------------\u001b[0m",
      "\u001b[0;31mNameError\u001b[0m                                 Traceback (most recent call last)",
      "\u001b[0;32m/var/folders/fx/tj_szvc17v38zxm2_vgmsz380000gq/T/ipykernel_20660/1163406368.py\u001b[0m in \u001b[0;36m<module>\u001b[0;34m\u001b[0m\n\u001b[0;32m----> 1\u001b[0;31m \u001b[0mmydictionary\u001b[0m\u001b[0;34m\u001b[0m\u001b[0;34m\u001b[0m\u001b[0m\n\u001b[0m",
      "\u001b[0;31mNameError\u001b[0m: name 'mydictionary' is not defined"
     ]
    }
   ],
   "source": [
    "mydictionary "
   ]
  },
  {
   "cell_type": "code",
   "execution_count": 2,
   "id": "0cf65190",
   "metadata": {},
   "outputs": [],
   "source": [
    "d = {'k1':[{'nest_key':['this is deep',['hello']]}]}"
   ]
  },
  {
   "cell_type": "code",
   "execution_count": 3,
   "id": "e5ce3ee0",
   "metadata": {},
   "outputs": [
    {
     "data": {
      "text/plain": [
       "{'k1': [{'nest_key': ['this is deep', ['hello']]}]}"
      ]
     },
     "execution_count": 3,
     "metadata": {},
     "output_type": "execute_result"
    }
   ],
   "source": [
    "d"
   ]
  },
  {
   "cell_type": "code",
   "execution_count": 4,
   "id": "cd222fee",
   "metadata": {},
   "outputs": [
    {
     "data": {
      "text/plain": [
       "[{'nest_key': ['this is deep', ['hello']]}]"
      ]
     },
     "execution_count": 4,
     "metadata": {},
     "output_type": "execute_result"
    }
   ],
   "source": [
    "d['k1']"
   ]
  },
  {
   "cell_type": "code",
   "execution_count": 11,
   "id": "63403e20",
   "metadata": {},
   "outputs": [
    {
     "data": {
      "text/plain": [
       "'hello'"
      ]
     },
     "execution_count": 11,
     "metadata": {},
     "output_type": "execute_result"
    }
   ],
   "source": [
    "d['k1'][0]['nest_key'][1][0]"
   ]
  },
  {
   "cell_type": "code",
   "execution_count": 12,
   "id": "13c6058f",
   "metadata": {},
   "outputs": [],
   "source": [
    "d = {'k1':[1,2,{'k2':['this is tricky',{'tough':[1,2,['hello']]}]}]}"
   ]
  },
  {
   "cell_type": "code",
   "execution_count": 13,
   "id": "3c44cf96",
   "metadata": {},
   "outputs": [
    {
     "data": {
      "text/plain": [
       "{'k2': ['this is tricky', {'tough': [1, 2, ['hello']]}]}"
      ]
     },
     "execution_count": 13,
     "metadata": {},
     "output_type": "execute_result"
    }
   ],
   "source": [
    "d['k1'][2]"
   ]
  },
  {
   "cell_type": "code",
   "execution_count": 14,
   "id": "17cb1284",
   "metadata": {},
   "outputs": [
    {
     "data": {
      "text/plain": [
       "{'tough': [1, 2, ['hello']]}"
      ]
     },
     "execution_count": 14,
     "metadata": {},
     "output_type": "execute_result"
    }
   ],
   "source": [
    "d['k1'][2]['k2'][1]"
   ]
  },
  {
   "cell_type": "code",
   "execution_count": 15,
   "id": "4d5d3802",
   "metadata": {},
   "outputs": [
    {
     "data": {
      "text/plain": [
       "['hello']"
      ]
     },
     "execution_count": 15,
     "metadata": {},
     "output_type": "execute_result"
    }
   ],
   "source": [
    "d['k1'][2]['k2'][1]['tough'][2]"
   ]
  },
  {
   "cell_type": "code",
   "execution_count": 17,
   "id": "0b8f46c9",
   "metadata": {},
   "outputs": [
    {
     "data": {
      "text/plain": [
       "'hello'"
      ]
     },
     "execution_count": 17,
     "metadata": {},
     "output_type": "execute_result"
    }
   ],
   "source": [
    "d['k1'][2]['k2'][1]['tough'][2][0]"
   ]
  },
  {
   "cell_type": "code",
   "execution_count": 18,
   "id": "66fd7ec3",
   "metadata": {},
   "outputs": [
    {
     "ename": "SyntaxError",
     "evalue": "invalid syntax (3238548945.py, line 1)",
     "output_type": "error",
     "traceback": [
      "\u001b[0;36m  File \u001b[0;32m\"/var/folders/fx/tj_szvc17v38zxm2_vgmsz380000gq/T/ipykernel_20660/3238548945.py\"\u001b[0;36m, line \u001b[0;32m1\u001b[0m\n\u001b[0;31m    d = {'k1':['naheedo':[1,2,3,{'baekijin':({'namdosan':[25,42,21,0)}]]}\u001b[0m\n\u001b[0m                        ^\u001b[0m\n\u001b[0;31mSyntaxError\u001b[0m\u001b[0;31m:\u001b[0m invalid syntax\n"
     ]
    }
   ],
   "source": [
    "d = {'k1':['naheedo':[1,2,3,{'baekijin':({'namdosan':[25,42,21,0)}]]}"
   ]
  },
  {
   "cell_type": "code",
   "execution_count": 25,
   "id": "4ad2e41c",
   "metadata": {},
   "outputs": [],
   "source": [
    "d = {'k1':['naheedo',1,2,{'baekijin': [25,31,{'namdosan': ['gongyoo','hyunbin','namjoohyuk']}]}]}"
   ]
  },
  {
   "cell_type": "code",
   "execution_count": 26,
   "id": "3ed2e264",
   "metadata": {},
   "outputs": [
    {
     "data": {
      "text/plain": [
       "{'k1': ['naheedo',\n",
       "  1,\n",
       "  2,\n",
       "  {'baekijin': [25, 31, {'namdosan': ['gongyoo', 'hyunbin', 'namjoohyuk']}]}]}"
      ]
     },
     "execution_count": 26,
     "metadata": {},
     "output_type": "execute_result"
    }
   ],
   "source": [
    "d"
   ]
  },
  {
   "cell_type": "code",
   "execution_count": 27,
   "id": "00bf8149",
   "metadata": {},
   "outputs": [],
   "source": [
    "## Grab Nam Joo Hyuk and force him to marry me"
   ]
  },
  {
   "cell_type": "code",
   "execution_count": 28,
   "id": "7fde4274",
   "metadata": {},
   "outputs": [
    {
     "data": {
      "text/plain": [
       "['naheedo',\n",
       " 1,\n",
       " 2,\n",
       " {'baekijin': [25, 31, {'namdosan': ['gongyoo', 'hyunbin', 'namjoohyuk']}]}]"
      ]
     },
     "execution_count": 28,
     "metadata": {},
     "output_type": "execute_result"
    }
   ],
   "source": [
    "d['k1']"
   ]
  },
  {
   "cell_type": "code",
   "execution_count": 29,
   "id": "4d09c5e0",
   "metadata": {},
   "outputs": [
    {
     "data": {
      "text/plain": [
       "{'baekijin': [25, 31, {'namdosan': ['gongyoo', 'hyunbin', 'namjoohyuk']}]}"
      ]
     },
     "execution_count": 29,
     "metadata": {},
     "output_type": "execute_result"
    }
   ],
   "source": [
    "d['k1'][3]"
   ]
  },
  {
   "cell_type": "code",
   "execution_count": 31,
   "id": "151dbcc0",
   "metadata": {},
   "outputs": [
    {
     "data": {
      "text/plain": [
       "{'namdosan': ['gongyoo', 'hyunbin', 'namjoohyuk']}"
      ]
     },
     "execution_count": 31,
     "metadata": {},
     "output_type": "execute_result"
    }
   ],
   "source": [
    "d['k1'][3]['baekijin'][2]"
   ]
  },
  {
   "cell_type": "code",
   "execution_count": 32,
   "id": "5e015c3f",
   "metadata": {},
   "outputs": [
    {
     "data": {
      "text/plain": [
       "'namjoohyuk'"
      ]
     },
     "execution_count": 32,
     "metadata": {},
     "output_type": "execute_result"
    }
   ],
   "source": [
    "d['k1'][3]['baekijin'][2]['namdosan'][2]"
   ]
  },
  {
   "cell_type": "code",
   "execution_count": null,
   "id": "6fb66fb8",
   "metadata": {},
   "outputs": [],
   "source": []
  }
 ],
 "metadata": {
  "kernelspec": {
   "display_name": "Python 3 (ipykernel)",
   "language": "python",
   "name": "python3"
  },
  "language_info": {
   "codemirror_mode": {
    "name": "ipython",
    "version": 3
   },
   "file_extension": ".py",
   "mimetype": "text/x-python",
   "name": "python",
   "nbconvert_exporter": "python",
   "pygments_lexer": "ipython3",
   "version": "3.9.7"
  }
 },
 "nbformat": 4,
 "nbformat_minor": 5
}
